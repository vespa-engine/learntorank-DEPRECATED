{
 "cells": [
  {
   "cell_type": "markdown",
   "metadata": {},
   "source": [
    "# Evaluate application\n",
    "\n",
    "> Define metrics and evaluate query models"
   ]
  },
  {
   "cell_type": "markdown",
   "metadata": {},
   "source": [
    "## Example setup"
   ]
  },
  {
   "cell_type": "markdown",
   "metadata": {},
   "source": [
    "Connect to the application and define a query model."
   ]
  },
  {
   "cell_type": "code",
   "execution_count": 1,
   "metadata": {},
   "outputs": [],
   "source": [
    "from vespa.application import Vespa\n",
    "from learntorank.query import QueryModel, Ranking, OR\n",
    "\n",
    "app = Vespa(url = \"https://api.cord19.vespa.ai\")\n",
    "query_model = QueryModel(\n",
    "    match_phase = OR(),\n",
    "    ranking = Ranking(name=\"bm25\", list_features=True))"
   ]
  },
  {
   "cell_type": "markdown",
   "metadata": {},
   "source": [
    "## Labeled data"
   ]
  },
  {
   "cell_type": "markdown",
   "metadata": {},
   "source": [
    "Define some labeled data. `pyvespa` expects labeled data to follow the format illustrated below. It is a list of dict where each dict represents a query containing `query_id`, `query` and a list of `relevant_docs`. Each relevant document contain a required `id` key and an optional `score` key."
   ]
  },
  {
   "cell_type": "code",
   "execution_count": 2,
   "metadata": {},
   "outputs": [],
   "source": [
    "labeled_data = [\n",
    "    {\n",
    "        \"query_id\": 0, \n",
    "        \"query\": \"Intrauterine virus infections and congenital heart disease\",\n",
    "        \"relevant_docs\": [{\"id\": 0, \"score\": 1}, {\"id\": 3, \"score\": 1}]\n",
    "    },\n",
    "    {\n",
    "        \"query_id\": 1, \n",
    "        \"query\": \"Clinical and immunologic studies in identical twins discordant for systemic lupus erythematosus\",\n",
    "        \"relevant_docs\": [{\"id\": 1, \"score\": 1}, {\"id\": 5, \"score\": 1}]\n",
    "    }\n",
    "]"
   ]
  },
  {
   "cell_type": "markdown",
   "metadata": {},
   "source": [
    "## Define metrics"
   ]
  },
  {
   "cell_type": "code",
   "execution_count": 3,
   "metadata": {},
   "outputs": [],
   "source": [
    "from learntorank.evaluation import MatchRatio, Recall, ReciprocalRank\n",
    "\n",
    "eval_metrics = [MatchRatio(), Recall(at=10), ReciprocalRank(at=10)]"
   ]
  },
  {
   "cell_type": "markdown",
   "metadata": {},
   "source": [
    "## Evaluate in batch"
   ]
  },
  {
   "cell_type": "code",
   "execution_count": 4,
   "metadata": {},
   "outputs": [
    {
     "data": {
      "text/html": [
       "<div>\n",
       "<style scoped>\n",
       "    .dataframe tbody tr th:only-of-type {\n",
       "        vertical-align: middle;\n",
       "    }\n",
       "\n",
       "    .dataframe tbody tr th {\n",
       "        vertical-align: top;\n",
       "    }\n",
       "\n",
       "    .dataframe thead th {\n",
       "        text-align: right;\n",
       "    }\n",
       "</style>\n",
       "<table border=\"1\" class=\"dataframe\">\n",
       "  <thead>\n",
       "    <tr style=\"text-align: right;\">\n",
       "      <th></th>\n",
       "      <th>model</th>\n",
       "      <th>default_name</th>\n",
       "    </tr>\n",
       "  </thead>\n",
       "  <tbody>\n",
       "    <tr>\n",
       "      <th rowspan=\"3\" valign=\"top\">match_ratio</th>\n",
       "      <th>mean</th>\n",
       "      <td>0.853456</td>\n",
       "    </tr>\n",
       "    <tr>\n",
       "      <th>median</th>\n",
       "      <td>0.853456</td>\n",
       "    </tr>\n",
       "    <tr>\n",
       "      <th>std</th>\n",
       "      <td>0.055199</td>\n",
       "    </tr>\n",
       "    <tr>\n",
       "      <th rowspan=\"3\" valign=\"top\">recall_10</th>\n",
       "      <th>mean</th>\n",
       "      <td>0.000000</td>\n",
       "    </tr>\n",
       "    <tr>\n",
       "      <th>median</th>\n",
       "      <td>0.000000</td>\n",
       "    </tr>\n",
       "    <tr>\n",
       "      <th>std</th>\n",
       "      <td>0.000000</td>\n",
       "    </tr>\n",
       "    <tr>\n",
       "      <th rowspan=\"3\" valign=\"top\">reciprocal_rank_10</th>\n",
       "      <th>mean</th>\n",
       "      <td>0.000000</td>\n",
       "    </tr>\n",
       "    <tr>\n",
       "      <th>median</th>\n",
       "      <td>0.000000</td>\n",
       "    </tr>\n",
       "    <tr>\n",
       "      <th>std</th>\n",
       "      <td>0.000000</td>\n",
       "    </tr>\n",
       "  </tbody>\n",
       "</table>\n",
       "</div>"
      ],
      "text/plain": [
       "model                      default_name\n",
       "match_ratio        mean        0.853456\n",
       "                   median      0.853456\n",
       "                   std         0.055199\n",
       "recall_10          mean        0.000000\n",
       "                   median      0.000000\n",
       "                   std         0.000000\n",
       "reciprocal_rank_10 mean        0.000000\n",
       "                   median      0.000000\n",
       "                   std         0.000000"
      ]
     },
     "execution_count": 4,
     "metadata": {},
     "output_type": "execute_result"
    }
   ],
   "source": [
    "from learntorank.evaluation import evaluate\n",
    "\n",
    "evaluation = evaluate(\n",
    "    app=app,\n",
    "    labeled_data = labeled_data,\n",
    "    eval_metrics = eval_metrics, \n",
    "    query_model = query_model, \n",
    "    id_field = \"id\",\n",
    ")\n",
    "evaluation"
   ]
  },
  {
   "cell_type": "markdown",
   "metadata": {},
   "source": [
    "## Evaluate specific query\n",
    "\n",
    "> You can have finer control with the `evaluate_query` method."
   ]
  },
  {
   "cell_type": "code",
   "execution_count": 5,
   "metadata": {},
   "outputs": [
    {
     "data": {
      "text/html": [
       "<div>\n",
       "<style scoped>\n",
       "    .dataframe tbody tr th:only-of-type {\n",
       "        vertical-align: middle;\n",
       "    }\n",
       "\n",
       "    .dataframe tbody tr th {\n",
       "        vertical-align: top;\n",
       "    }\n",
       "\n",
       "    .dataframe thead th {\n",
       "        text-align: right;\n",
       "    }\n",
       "</style>\n",
       "<table border=\"1\" class=\"dataframe\">\n",
       "  <thead>\n",
       "    <tr style=\"text-align: right;\">\n",
       "      <th></th>\n",
       "      <th>model</th>\n",
       "      <th>query_id</th>\n",
       "      <th>match_ratio</th>\n",
       "      <th>recall_10</th>\n",
       "      <th>reciprocal_rank_10</th>\n",
       "    </tr>\n",
       "  </thead>\n",
       "  <tbody>\n",
       "    <tr>\n",
       "      <th>0</th>\n",
       "      <td>default_name</td>\n",
       "      <td>0</td>\n",
       "      <td>0.814425</td>\n",
       "      <td>0.0</td>\n",
       "      <td>0</td>\n",
       "    </tr>\n",
       "    <tr>\n",
       "      <th>1</th>\n",
       "      <td>default_name</td>\n",
       "      <td>1</td>\n",
       "      <td>0.892487</td>\n",
       "      <td>0.0</td>\n",
       "      <td>0</td>\n",
       "    </tr>\n",
       "  </tbody>\n",
       "</table>\n",
       "</div>"
      ],
      "text/plain": [
       "          model  query_id  match_ratio  recall_10  reciprocal_rank_10\n",
       "0  default_name         0     0.814425        0.0                   0\n",
       "1  default_name         1     0.892487        0.0                   0"
      ]
     },
     "execution_count": 5,
     "metadata": {},
     "output_type": "execute_result"
    }
   ],
   "source": [
    "from pandas import concat, DataFrame\n",
    "from learntorank.evaluation import evaluate_query\n",
    "\n",
    "evaluation = []\n",
    "for query_data in labeled_data:\n",
    "    query_evaluation = evaluate_query(\n",
    "        app=app,\n",
    "        eval_metrics = eval_metrics, \n",
    "        query_model = query_model, \n",
    "        query_id = query_data[\"query_id\"], \n",
    "        query = query_data[\"query\"], \n",
    "        id_field = \"id\",\n",
    "        relevant_docs = query_data[\"relevant_docs\"],\n",
    "        default_score = 0\n",
    "    )\n",
    "    evaluation.append(query_evaluation)\n",
    "evaluation = DataFrame.from_records(evaluation)\n",
    "evaluation"
   ]
  },
  {
   "cell_type": "markdown",
   "metadata": {},
   "source": [
    "## Evaluate query under specific document ids\n",
    "> Use recall to specify which documents should be inlcuded in the evaluation"
   ]
  },
  {
   "cell_type": "markdown",
   "metadata": {},
   "source": [
    "In the example below, we include documents with id equal to 0, 1 and 2. Since the relevant documents for this query are the documents with id 0 and 3, we should get recall equal to 0.5."
   ]
  },
  {
   "cell_type": "code",
   "execution_count": 6,
   "metadata": {},
   "outputs": [
    {
     "data": {
      "text/plain": [
       "{'model': 'default_name',\n",
       " 'query_id': 0,\n",
       " 'match_ratio': 9.70242657688688e-06,\n",
       " 'recall_10': 0.5,\n",
       " 'reciprocal_rank_10': 1.0}"
      ]
     },
     "execution_count": 6,
     "metadata": {},
     "output_type": "execute_result"
    }
   ],
   "source": [
    "query_evaluation = evaluate_query(\n",
    "    app=app,\n",
    "    eval_metrics = eval_metrics, \n",
    "    query_model = query_model, \n",
    "    query_id = 0, \n",
    "    query = \"Intrauterine virus infections and congenital heart disease\", \n",
    "    id_field = \"id\",\n",
    "    relevant_docs = [{\"id\": 0, \"score\": 1}, {\"id\": 3, \"score\": 1}],\n",
    "    default_score = 0,\n",
    "    recall = (\"id\", [0, 1, 2])\n",
    ")\n",
    "query_evaluation"
   ]
  },
  {
   "cell_type": "markdown",
   "metadata": {},
   "source": [
    "We now include documents with id equal to 0, 1, 2 and 3. This should give a recall equal to 1."
   ]
  },
  {
   "cell_type": "code",
   "execution_count": 7,
   "metadata": {},
   "outputs": [
    {
     "data": {
      "text/plain": [
       "{'model': 'default_name',\n",
       " 'query_id': 0,\n",
       " 'match_ratio': 1.2936568769182506e-05,\n",
       " 'recall_10': 1.0,\n",
       " 'reciprocal_rank_10': 1.0}"
      ]
     },
     "execution_count": 7,
     "metadata": {},
     "output_type": "execute_result"
    }
   ],
   "source": [
    "query_evaluation = evaluate_query(\n",
    "    app=app,\n",
    "    eval_metrics = eval_metrics, \n",
    "    query_model = query_model, \n",
    "    query_id = 0, \n",
    "    query = \"Intrauterine virus infections and congenital heart disease\", \n",
    "    id_field = \"id\",\n",
    "    relevant_docs = [{\"id\": 0, \"score\": 1}, {\"id\": 3, \"score\": 1}],\n",
    "    default_score = 0,\n",
    "    recall = (\"id\", [0, 1, 2, 3])\n",
    ")\n",
    "query_evaluation"
   ]
  }
 ],
 "metadata": {
  "kernelspec": {
   "display_name": "Python 3",
   "language": "python",
   "name": "python3"
  },
  "language_info": {
   "codemirror_mode": {
    "name": "ipython",
    "version": 3
   },
   "file_extension": ".py",
   "mimetype": "text/x-python",
   "name": "python",
   "nbconvert_exporter": "python",
   "pygments_lexer": "ipython3",
   "version": "3.9.13"
  }
 },
 "nbformat": 4,
 "nbformat_minor": 4
}
