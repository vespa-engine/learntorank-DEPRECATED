{
 "cells": [
  {
   "cell_type": "markdown",
   "metadata": {},
   "source": [
    "# Query models\n",
    "\n",
    "Python API to define query models\n",
    "\n",
    "A [QueryModel](reference-api.rst#vespa.query.QueryModel) is an abstraction\n",
    "that encapsulates all the relevant information controlling how your app match and rank documents.\n",
    "A `QueryModel` can be used for [querying](reference-api.rst#vespa.application.Vespa.query),\n",
    "[evaluating](reference-api.rst#vespa.application.Vespa.evaluate)\n",
    "and [collecting data](reference-api.rst#vespa.application.Vespa.collect_training_data) from an app.\n",
    "\n",
    "Before version `0.5.0`, the only way to build a `QueryModel` was by specifying arguments like `match_phase`\n",
    "and `rank_profile` using the pyvespa API,\n",
    "such as _match operators_ like [OR](reference-api.rst#vespa.query.OR) - e.g.:"
   ]
  },
  {
   "cell_type": "code",
   "execution_count": 1,
   "metadata": {},
   "outputs": [],
   "source": [
    "from learntorank.query import QueryModel, Ranking, OR\n",
    "\n",
    "standard_query_model = QueryModel(\n",
    "    name=\"or_bm25\",\n",
    "    match_phase = OR(),\n",
    "    ranking = Ranking(name=\"bm25\")\n",
    ")"
   ]
  },
  {
   "cell_type": "markdown",
   "metadata": {},
   "source": [
    "Starting in version `0.5.0` we can bypass the pyvespa high-level API and create a `QueryModel` with the full flexibility of the [Vespa Query API](https://docs.vespa.ai/en/reference/query-api-reference.html). This is useful for use cases not covered by the pyvespa API and for users that are familiar with and prefer to work with the Vespa Query API."
   ]
  },
  {
   "cell_type": "code",
   "execution_count": 2,
   "metadata": {},
   "outputs": [],
   "source": [
    "def body_function(query):\n",
    "    body = {'yql': 'select * from sources * where userQuery();',\n",
    "            'query': query,\n",
    "            'type': 'any',\n",
    "            'ranking': {'profile': 'bm25', 'listFeatures': 'false'}}\n",
    "    return body\n",
    "\n",
    "flexible_query_model = QueryModel(body_function = body_function)"
   ]
  },
  {
   "cell_type": "markdown",
   "metadata": {},
   "source": [
    "The `flexible_query_model` defined above is equivalent to the `standard_query_model`, as we can see when querying the `app`. We will use the [cord19 app](https://cord19.vespa.ai/) in our demonstration."
   ]
  },
  {
   "cell_type": "code",
   "execution_count": 3,
   "metadata": {},
   "outputs": [],
   "source": [
    "from vespa.application import Vespa\n",
    "\n",
    "app = Vespa(url = \"https://api.cord19.vespa.ai\")"
   ]
  },
  {
   "cell_type": "code",
   "execution_count": 4,
   "metadata": {},
   "outputs": [
    {
     "data": {
      "text/html": [
       "<div>\n",
       "<style scoped>\n",
       "    .dataframe tbody tr th:only-of-type {\n",
       "        vertical-align: middle;\n",
       "    }\n",
       "\n",
       "    .dataframe tbody tr th {\n",
       "        vertical-align: top;\n",
       "    }\n",
       "\n",
       "    .dataframe thead th {\n",
       "        text-align: right;\n",
       "    }\n",
       "</style>\n",
       "<table border=\"1\" class=\"dataframe\">\n",
       "  <thead>\n",
       "    <tr style=\"text-align: right;\">\n",
       "      <th></th>\n",
       "      <th>qid</th>\n",
       "      <th>doc_id</th>\n",
       "      <th>score</th>\n",
       "      <th>rank</th>\n",
       "    </tr>\n",
       "  </thead>\n",
       "  <tbody>\n",
       "    <tr>\n",
       "      <th>0</th>\n",
       "      <td>0</td>\n",
       "      <td>id:covid-19:doc::142863</td>\n",
       "      <td>11.824458</td>\n",
       "      <td>0</td>\n",
       "    </tr>\n",
       "    <tr>\n",
       "      <th>1</th>\n",
       "      <td>0</td>\n",
       "      <td>id:covid-19:doc::187156</td>\n",
       "      <td>11.818079</td>\n",
       "      <td>1</td>\n",
       "    </tr>\n",
       "    <tr>\n",
       "      <th>2</th>\n",
       "      <td>0</td>\n",
       "      <td>id:covid-19:doc::31328</td>\n",
       "      <td>11.288179</td>\n",
       "      <td>2</td>\n",
       "    </tr>\n",
       "  </tbody>\n",
       "</table>\n",
       "</div>"
      ],
      "text/plain": [
       "   qid                   doc_id      score  rank\n",
       "0    0  id:covid-19:doc::142863  11.824458     0\n",
       "1    0  id:covid-19:doc::187156  11.818079     1\n",
       "2    0   id:covid-19:doc::31328  11.288179     2"
      ]
     },
     "execution_count": 4,
     "metadata": {},
     "output_type": "execute_result"
    }
   ],
   "source": [
    "from learntorank.query import send_query\n",
    "\n",
    "standard_result = send_query(\n",
    "    app=app, \n",
    "    query=\"this is a test\", \n",
    "    query_model=standard_query_model\n",
    ")\n",
    "standard_result.get_hits().head(3)"
   ]
  },
  {
   "cell_type": "code",
   "execution_count": 5,
   "metadata": {},
   "outputs": [
    {
     "data": {
      "text/html": [
       "<div>\n",
       "<style scoped>\n",
       "    .dataframe tbody tr th:only-of-type {\n",
       "        vertical-align: middle;\n",
       "    }\n",
       "\n",
       "    .dataframe tbody tr th {\n",
       "        vertical-align: top;\n",
       "    }\n",
       "\n",
       "    .dataframe thead th {\n",
       "        text-align: right;\n",
       "    }\n",
       "</style>\n",
       "<table border=\"1\" class=\"dataframe\">\n",
       "  <thead>\n",
       "    <tr style=\"text-align: right;\">\n",
       "      <th></th>\n",
       "      <th>qid</th>\n",
       "      <th>doc_id</th>\n",
       "      <th>score</th>\n",
       "      <th>rank</th>\n",
       "    </tr>\n",
       "  </thead>\n",
       "  <tbody>\n",
       "    <tr>\n",
       "      <th>0</th>\n",
       "      <td>0</td>\n",
       "      <td>id:covid-19:doc::142863</td>\n",
       "      <td>11.824458</td>\n",
       "      <td>0</td>\n",
       "    </tr>\n",
       "    <tr>\n",
       "      <th>1</th>\n",
       "      <td>0</td>\n",
       "      <td>id:covid-19:doc::187156</td>\n",
       "      <td>11.818079</td>\n",
       "      <td>1</td>\n",
       "    </tr>\n",
       "    <tr>\n",
       "      <th>2</th>\n",
       "      <td>0</td>\n",
       "      <td>id:covid-19:doc::31328</td>\n",
       "      <td>11.288179</td>\n",
       "      <td>2</td>\n",
       "    </tr>\n",
       "  </tbody>\n",
       "</table>\n",
       "</div>"
      ],
      "text/plain": [
       "   qid                   doc_id      score  rank\n",
       "0    0  id:covid-19:doc::142863  11.824458     0\n",
       "1    0  id:covid-19:doc::187156  11.818079     1\n",
       "2    0   id:covid-19:doc::31328  11.288179     2"
      ]
     },
     "execution_count": 5,
     "metadata": {},
     "output_type": "execute_result"
    }
   ],
   "source": [
    "flexible_result = send_query(\n",
    "    app=app, \n",
    "    query=\"this is a test\", \n",
    "    query_model=flexible_query_model\n",
    ")\n",
    "flexible_result.get_hits().head(3)"
   ]
  }
 ],
 "metadata": {
  "kernelspec": {
   "display_name": "Python 3",
   "language": "python",
   "name": "python3"
  },
  "language_info": {
   "codemirror_mode": {
    "name": "ipython",
    "version": 3
   },
   "file_extension": ".py",
   "mimetype": "text/x-python",
   "name": "python",
   "nbconvert_exporter": "python",
   "pygments_lexer": "ipython3",
   "version": "3.9.13"
  }
 },
 "nbformat": 4,
 "nbformat_minor": 4
}
