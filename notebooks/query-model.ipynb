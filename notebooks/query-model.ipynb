{
 "cells": [
  {
   "cell_type": "markdown",
   "metadata": {},
   "source": [
    "# Query models\n",
    "\n",
    "Python API to define query models\n",
    "\n",
    "A [QueryModel](reference-api.rst#vespa.query.QueryModel) is an abstraction\n",
    "that encapsulates all the relevant information controlling how your app match and rank documents.\n",
    "A `QueryModel` can be used for [querying](reference-api.rst#vespa.application.Vespa.query),\n",
    "[evaluating](reference-api.rst#vespa.application.Vespa.evaluate)\n",
    "and [collecting data](reference-api.rst#vespa.application.Vespa.collect_training_data) from an app.\n",
    "\n",
    "Before version `0.5.0`, the only way to build a `QueryModel` was by specifying arguments like `match_phase`\n",
    "and `rank_profile` using the pyvespa API,\n",
    "such as _match operators_ like [OR](reference-api.rst#vespa.query.OR) - e.g.:"
   ]
  },
  {
   "cell_type": "code",
   "execution_count": null,
   "metadata": {},
   "outputs": [],
   "source": [
    "from learntorank.query import QueryModel, Ranking, OR\n",
    "\n",
    "standard_query_model = QueryModel(\n",
    "    name=\"or_bm25\",\n",
    "    match_phase = OR(),\n",
    "    ranking = Ranking(name=\"bm25\")\n",
    ")"
   ]
  },
  {
   "cell_type": "markdown",
   "metadata": {},
   "source": [
    "Starting in version `0.5.0` we can bypass the pyvespa high-level API and create a `QueryModel` with the full flexibility of the [Vespa Query API](https://docs.vespa.ai/en/reference/query-api-reference.html). This is useful for use cases not covered by the pyvespa API and for users that are familiar with and prefer to work with the Vespa Query API."
   ]
  },
  {
   "cell_type": "code",
   "execution_count": null,
   "metadata": {},
   "outputs": [],
   "source": [
    "def body_function(query):\n",
    "    body = {'yql': 'select * from sources * where userQuery();',\n",
    "            'query': query,\n",
    "            'type': 'any',\n",
    "            'ranking': {'profile': 'bm25', 'listFeatures': 'false'}}\n",
    "    return body\n",
    "\n",
    "flexible_query_model = QueryModel(body_function = body_function)"
   ]
  },
  {
   "cell_type": "markdown",
   "metadata": {},
   "source": [
    "The `flexible_query_model` defined above is equivalent to the `standard_query_model`, as we can see when querying the `app`. We will use the [cord19 app](https://cord19.vespa.ai/) in our demonstration."
   ]
  },
  {
   "cell_type": "code",
   "execution_count": null,
   "metadata": {},
   "outputs": [],
   "source": [
    "from vespa.application import Vespa\n",
    "\n",
    "app = Vespa(url = \"https://api.cord19.vespa.ai\")"
   ]
  },
  {
   "cell_type": "code",
   "execution_count": null,
   "metadata": {},
   "outputs": [],
   "source": [
    "from learntorank.query import send_query\n",
    "\n",
    "standard_result = send_query(\n",
    "    app=app, \n",
    "    query=\"this is a test\", \n",
    "    query_model=standard_query_model\n",
    ")\n",
    "standard_result.get_hits().head(3)"
   ]
  },
  {
   "cell_type": "code",
   "execution_count": null,
   "metadata": {},
   "outputs": [],
   "source": [
    "flexible_result = send_query(\n",
    "    app=app, \n",
    "    query=\"this is a test\", \n",
    "    query_model=flexible_query_model\n",
    ")\n",
    "flexible_result.get_hits().head(3)"
   ]
  },
  {
   "cell_type": "markdown",
   "metadata": {},
   "source": [
    "## Specify a query model"
   ]
  },
  {
   "cell_type": "markdown",
   "metadata": {},
   "source": [
    "### Query + term-matching + rank profile"
   ]
  },
  {
   "cell_type": "code",
   "execution_count": null,
   "metadata": {},
   "outputs": [],
   "source": [
    "from learntorank.query import QueryModel, OR, Ranking, send_query\n",
    "\n",
    "results = send_query(\n",
    "    app=app,\n",
    "    query=\"Is remdesivir an effective treatment for COVID-19?\", \n",
    "    query_model = QueryModel(\n",
    "        match_phase=OR(), \n",
    "        ranking=Ranking(name=\"bm25\")\n",
    "    )\n",
    ")"
   ]
  },
  {
   "cell_type": "code",
   "execution_count": null,
   "metadata": {},
   "outputs": [],
   "source": [
    "results.number_documents_retrieved"
   ]
  },
  {
   "cell_type": "markdown",
   "metadata": {},
   "source": [
    "### Query + term-matching + ann operator + rank_profile"
   ]
  },
  {
   "cell_type": "code",
   "execution_count": null,
   "metadata": {},
   "outputs": [],
   "source": [
    "from learntorank.query import QueryModel, QueryRankingFeature, ANN, WeakAnd, Union, Ranking\n",
    "from random import random\n",
    "\n",
    "match_phase = Union(\n",
    "    WeakAnd(hits = 10), \n",
    "    ANN(\n",
    "        doc_vector=\"specter_embedding\", \n",
    "        query_vector=\"specter_vector\", \n",
    "        hits = 10,\n",
    "        label=\"title\"\n",
    "    )\n",
    ")\n",
    "ranking = Ranking(name=\"related-specter\", list_features=True)\n",
    "query_model = QueryModel(\n",
    "    query_properties=[QueryRankingFeature(\n",
    "        name=\"specter_vector\", \n",
    "        mapping=lambda x: [random() for x in range(768)]\n",
    "    )],\n",
    "    match_phase=match_phase, ranking=ranking\n",
    ")"
   ]
  },
  {
   "cell_type": "code",
   "execution_count": null,
   "metadata": {},
   "outputs": [],
   "source": [
    "results = send_query(\n",
    "    app=app,\n",
    "    query=\"Is remdesivir an effective treatment for COVID-19?\", \n",
    "    query_model=query_model\n",
    ")"
   ]
  },
  {
   "cell_type": "code",
   "execution_count": null,
   "metadata": {},
   "outputs": [],
   "source": [
    "results.number_documents_retrieved"
   ]
  },
  {
   "cell_type": "markdown",
   "metadata": {},
   "source": [
    "## Recall specific documents"
   ]
  },
  {
   "cell_type": "markdown",
   "metadata": {},
   "source": [
    "Let's take a look at the top 3 ids from the last query."
   ]
  },
  {
   "cell_type": "code",
   "execution_count": null,
   "metadata": {},
   "outputs": [],
   "source": [
    "top_ids = [hit[\"fields\"][\"id\"] for hit in results.hits[0:3]]\n",
    "top_ids"
   ]
  },
  {
   "cell_type": "markdown",
   "metadata": {},
   "source": [
    "Assume that we now want to retrieve the second and third ids above. We can do so with the `recall` argument."
   ]
  },
  {
   "cell_type": "code",
   "execution_count": null,
   "metadata": {},
   "outputs": [],
   "source": [
    "results_with_recall = send_query(\n",
    "    app=app,\n",
    "    query=\"Is remdesivir an effective treatment for COVID-19?\", \n",
    "    query_model=query_model,\n",
    "    recall = (\"id\", top_ids[1:3])\n",
    ")"
   ]
  },
  {
   "cell_type": "markdown",
   "metadata": {},
   "source": [
    "It will only retrieve the documents with Vespa field `id` that is defined on the list that is inside the tuple."
   ]
  },
  {
   "cell_type": "code",
   "execution_count": null,
   "metadata": {},
   "outputs": [],
   "source": [
    "id_recalled = [hit[\"fields\"][\"id\"] for hit in results_with_recall.hits]\n",
    "id_recalled"
   ]
  }
 ],
 "metadata": {
  "kernelspec": {
   "display_name": "Python 3 (ipykernel)",
   "language": "python",
   "name": "python3"
  }
 },
 "nbformat": 4,
 "nbformat_minor": 4
}
