{
 "cells": [
  {
   "cell_type": "markdown",
   "id": "b2666b3c",
   "metadata": {},
   "source": [
    "# Learning to rank\n",
    "> Data pipelines, model fitting and feature selection"
   ]
  },
  {
   "cell_type": "markdown",
   "id": "a241a86e",
   "metadata": {},
   "source": [
    "![Vespa logo](https://vespa.ai/assets/vespa-logo-color.png)\n",
    "\n",
    "This notebook is WIP and not runnable - ToDo FIXME"
   ]
  },
  {
   "cell_type": "markdown",
   "id": "69c6e5f5",
   "metadata": {},
   "source": [
    "## Data"
   ]
  },
  {
   "cell_type": "markdown",
   "id": "8a579467",
   "metadata": {},
   "source": [
    "This section describes the data that we are going to use to give a brief overview of the `pyvespa` ranking framework. The data was collected from a running Vespa application indexed with MS MARCO data. For each relevant (`document_id`, `query_id`)-pair we collected 9 random matched documents. Relevant documents have `label=1` and non-relevant documents have `label=0`. In addition, many [Vespa ranking features](https://docs.vespa.ai/en/reference/rank-features.html) computed based on document and query interaction are included."
   ]
  },
  {
   "cell_type": "code",
   "execution_count": null,
   "id": "1d29b4e8",
   "metadata": {},
   "outputs": [],
   "source": [
    "train_df = pd.read_csv(\"https://data.vespa.oath.cloud/blog/ranking/train_sample.csv\")"
   ]
  },
  {
   "cell_type": "markdown",
   "id": "40c4fc33",
   "metadata": {},
   "source": [
    "The data used here is a sample containing 100.000 rows and 71 features."
   ]
  },
  {
   "cell_type": "code",
   "execution_count": null,
   "id": "daeed959",
   "metadata": {},
   "outputs": [
    {
     "data": {
      "text/plain": [
       "(100000, 74)"
      ]
     },
     "execution_count": null,
     "metadata": {},
     "output_type": "execute_result"
    }
   ],
   "source": [
    "train_df.shape"
   ]
  },
  {
   "cell_type": "code",
   "execution_count": null,
   "id": "bb2b3474",
   "metadata": {},
   "outputs": [
    {
     "data": {
      "text/html": [
       "<div>\n",
       "<style scoped>\n",
       "    .dataframe tbody tr th:only-of-type {\n",
       "        vertical-align: middle;\n",
       "    }\n",
       "\n",
       "    .dataframe tbody tr th {\n",
       "        vertical-align: top;\n",
       "    }\n",
       "\n",
       "    .dataframe thead th {\n",
       "        text-align: right;\n",
       "    }\n",
       "</style>\n",
       "<table border=\"1\" class=\"dataframe\">\n",
       "  <thead>\n",
       "    <tr style=\"text-align: right;\">\n",
       "      <th></th>\n",
       "      <th>document_id</th>\n",
       "      <th>query_id</th>\n",
       "      <th>label</th>\n",
       "      <th>elementCompleteness(body).completeness</th>\n",
       "      <th>elementCompleteness(body).fieldCompleteness</th>\n",
       "      <th>elementCompleteness(body).queryCompleteness</th>\n",
       "      <th>fieldMatch(body)</th>\n",
       "      <th>fieldMatch(body).absoluteOccurrence</th>\n",
       "      <th>fieldMatch(body).absoluteProximity</th>\n",
       "      <th>fieldMatch(body).completeness</th>\n",
       "      <th>...</th>\n",
       "      <th>term(3).significance</th>\n",
       "      <th>term(3).weight</th>\n",
       "      <th>term(4).connectedness</th>\n",
       "      <th>term(4).significance</th>\n",
       "      <th>term(4).weight</th>\n",
       "      <th>textSimilarity(body).fieldCoverage</th>\n",
       "      <th>textSimilarity(body).order</th>\n",
       "      <th>textSimilarity(body).proximity</th>\n",
       "      <th>textSimilarity(body).queryCoverage</th>\n",
       "      <th>textSimilarity(body).score</th>\n",
       "    </tr>\n",
       "  </thead>\n",
       "  <tbody>\n",
       "    <tr>\n",
       "      <th>0</th>\n",
       "      <td>27061</td>\n",
       "      <td>3</td>\n",
       "      <td>0</td>\n",
       "      <td>0.358796</td>\n",
       "      <td>0.092593</td>\n",
       "      <td>0.625</td>\n",
       "      <td>0.127746</td>\n",
       "      <td>0.022000</td>\n",
       "      <td>0.02600</td>\n",
       "      <td>0.598380</td>\n",
       "      <td>...</td>\n",
       "      <td>0.504935</td>\n",
       "      <td>100.0</td>\n",
       "      <td>0.1</td>\n",
       "      <td>0.674337</td>\n",
       "      <td>100.0</td>\n",
       "      <td>0.092593</td>\n",
       "      <td>0.250000</td>\n",
       "      <td>0.437500</td>\n",
       "      <td>0.625</td>\n",
       "      <td>0.396644</td>\n",
       "    </tr>\n",
       "    <tr>\n",
       "      <th>1</th>\n",
       "      <td>257</td>\n",
       "      <td>3</td>\n",
       "      <td>0</td>\n",
       "      <td>0.359670</td>\n",
       "      <td>0.094340</td>\n",
       "      <td>0.625</td>\n",
       "      <td>0.092319</td>\n",
       "      <td>0.018000</td>\n",
       "      <td>0.03500</td>\n",
       "      <td>0.598467</td>\n",
       "      <td>...</td>\n",
       "      <td>0.504935</td>\n",
       "      <td>100.0</td>\n",
       "      <td>0.1</td>\n",
       "      <td>0.674337</td>\n",
       "      <td>100.0</td>\n",
       "      <td>0.094340</td>\n",
       "      <td>0.750000</td>\n",
       "      <td>0.234375</td>\n",
       "      <td>0.625</td>\n",
       "      <td>0.400899</td>\n",
       "    </tr>\n",
       "    <tr>\n",
       "      <th>2</th>\n",
       "      <td>363</td>\n",
       "      <td>3</td>\n",
       "      <td>0</td>\n",
       "      <td>0.277397</td>\n",
       "      <td>0.054795</td>\n",
       "      <td>0.500</td>\n",
       "      <td>0.141511</td>\n",
       "      <td>0.030000</td>\n",
       "      <td>0.07100</td>\n",
       "      <td>0.477740</td>\n",
       "      <td>...</td>\n",
       "      <td>0.504935</td>\n",
       "      <td>100.0</td>\n",
       "      <td>0.1</td>\n",
       "      <td>0.674337</td>\n",
       "      <td>100.0</td>\n",
       "      <td>0.054795</td>\n",
       "      <td>0.666667</td>\n",
       "      <td>0.640625</td>\n",
       "      <td>0.500</td>\n",
       "      <td>0.485178</td>\n",
       "    </tr>\n",
       "    <tr>\n",
       "      <th>3</th>\n",
       "      <td>22682</td>\n",
       "      <td>3</td>\n",
       "      <td>0</td>\n",
       "      <td>0.333686</td>\n",
       "      <td>0.042373</td>\n",
       "      <td>0.625</td>\n",
       "      <td>0.250817</td>\n",
       "      <td>0.056000</td>\n",
       "      <td>0.10000</td>\n",
       "      <td>0.595869</td>\n",
       "      <td>...</td>\n",
       "      <td>0.504935</td>\n",
       "      <td>100.0</td>\n",
       "      <td>0.1</td>\n",
       "      <td>0.674337</td>\n",
       "      <td>100.0</td>\n",
       "      <td>0.042373</td>\n",
       "      <td>0.250000</td>\n",
       "      <td>0.324219</td>\n",
       "      <td>0.625</td>\n",
       "      <td>0.346951</td>\n",
       "    </tr>\n",
       "    <tr>\n",
       "      <th>4</th>\n",
       "      <td>160</td>\n",
       "      <td>3</td>\n",
       "      <td>0</td>\n",
       "      <td>0.295455</td>\n",
       "      <td>0.090909</td>\n",
       "      <td>0.500</td>\n",
       "      <td>0.118351</td>\n",
       "      <td>0.015000</td>\n",
       "      <td>0.05000</td>\n",
       "      <td>0.479545</td>\n",
       "      <td>...</td>\n",
       "      <td>0.504935</td>\n",
       "      <td>100.0</td>\n",
       "      <td>0.1</td>\n",
       "      <td>0.674337</td>\n",
       "      <td>100.0</td>\n",
       "      <td>0.090909</td>\n",
       "      <td>0.666667</td>\n",
       "      <td>0.557292</td>\n",
       "      <td>0.500</td>\n",
       "      <td>0.463234</td>\n",
       "    </tr>\n",
       "    <tr>\n",
       "      <th>5</th>\n",
       "      <td>228</td>\n",
       "      <td>3</td>\n",
       "      <td>0</td>\n",
       "      <td>0.286364</td>\n",
       "      <td>0.072727</td>\n",
       "      <td>0.500</td>\n",
       "      <td>0.148612</td>\n",
       "      <td>0.015000</td>\n",
       "      <td>0.10000</td>\n",
       "      <td>0.478636</td>\n",
       "      <td>...</td>\n",
       "      <td>0.504935</td>\n",
       "      <td>100.0</td>\n",
       "      <td>0.1</td>\n",
       "      <td>0.674337</td>\n",
       "      <td>100.0</td>\n",
       "      <td>0.072727</td>\n",
       "      <td>0.000000</td>\n",
       "      <td>0.286458</td>\n",
       "      <td>0.500</td>\n",
       "      <td>0.264806</td>\n",
       "    </tr>\n",
       "    <tr>\n",
       "      <th>6</th>\n",
       "      <td>3901893</td>\n",
       "      <td>3</td>\n",
       "      <td>0</td>\n",
       "      <td>0.433824</td>\n",
       "      <td>0.117647</td>\n",
       "      <td>0.750</td>\n",
       "      <td>0.345256</td>\n",
       "      <td>0.025000</td>\n",
       "      <td>0.07700</td>\n",
       "      <td>0.718382</td>\n",
       "      <td>...</td>\n",
       "      <td>0.504935</td>\n",
       "      <td>100.0</td>\n",
       "      <td>0.1</td>\n",
       "      <td>0.674337</td>\n",
       "      <td>100.0</td>\n",
       "      <td>0.117647</td>\n",
       "      <td>0.600000</td>\n",
       "      <td>0.575000</td>\n",
       "      <td>0.750</td>\n",
       "      <td>0.539779</td>\n",
       "    </tr>\n",
       "    <tr>\n",
       "      <th>7</th>\n",
       "      <td>1142680</td>\n",
       "      <td>3</td>\n",
       "      <td>1</td>\n",
       "      <td>0.412037</td>\n",
       "      <td>0.074074</td>\n",
       "      <td>0.750</td>\n",
       "      <td>0.343120</td>\n",
       "      <td>0.046667</td>\n",
       "      <td>0.07700</td>\n",
       "      <td>0.716204</td>\n",
       "      <td>...</td>\n",
       "      <td>0.504935</td>\n",
       "      <td>100.0</td>\n",
       "      <td>0.1</td>\n",
       "      <td>0.674337</td>\n",
       "      <td>100.0</td>\n",
       "      <td>0.074074</td>\n",
       "      <td>0.600000</td>\n",
       "      <td>0.615625</td>\n",
       "      <td>0.750</td>\n",
       "      <td>0.545284</td>\n",
       "    </tr>\n",
       "    <tr>\n",
       "      <th>8</th>\n",
       "      <td>141</td>\n",
       "      <td>3</td>\n",
       "      <td>0</td>\n",
       "      <td>0.286364</td>\n",
       "      <td>0.072727</td>\n",
       "      <td>0.500</td>\n",
       "      <td>0.081461</td>\n",
       "      <td>0.027500</td>\n",
       "      <td>0.10000</td>\n",
       "      <td>0.478636</td>\n",
       "      <td>...</td>\n",
       "      <td>0.504935</td>\n",
       "      <td>100.0</td>\n",
       "      <td>0.1</td>\n",
       "      <td>0.674337</td>\n",
       "      <td>100.0</td>\n",
       "      <td>0.072727</td>\n",
       "      <td>0.666667</td>\n",
       "      <td>0.406250</td>\n",
       "      <td>0.500</td>\n",
       "      <td>0.406733</td>\n",
       "    </tr>\n",
       "    <tr>\n",
       "      <th>9</th>\n",
       "      <td>3060834</td>\n",
       "      <td>3</td>\n",
       "      <td>0</td>\n",
       "      <td>0.410294</td>\n",
       "      <td>0.070588</td>\n",
       "      <td>0.750</td>\n",
       "      <td>0.308250</td>\n",
       "      <td>0.045000</td>\n",
       "      <td>0.06675</td>\n",
       "      <td>0.716029</td>\n",
       "      <td>...</td>\n",
       "      <td>0.504935</td>\n",
       "      <td>100.0</td>\n",
       "      <td>0.1</td>\n",
       "      <td>0.674337</td>\n",
       "      <td>100.0</td>\n",
       "      <td>0.070588</td>\n",
       "      <td>0.400000</td>\n",
       "      <td>0.715625</td>\n",
       "      <td>0.750</td>\n",
       "      <td>0.549586</td>\n",
       "    </tr>\n",
       "  </tbody>\n",
       "</table>\n",
       "<p>10 rows × 74 columns</p>\n",
       "</div>"
      ],
      "text/plain": [
       "   document_id  query_id  label  elementCompleteness(body).completeness  \\\n",
       "0        27061         3      0                                0.358796   \n",
       "1          257         3      0                                0.359670   \n",
       "2          363         3      0                                0.277397   \n",
       "3        22682         3      0                                0.333686   \n",
       "4          160         3      0                                0.295455   \n",
       "5          228         3      0                                0.286364   \n",
       "6      3901893         3      0                                0.433824   \n",
       "7      1142680         3      1                                0.412037   \n",
       "8          141         3      0                                0.286364   \n",
       "9      3060834         3      0                                0.410294   \n",
       "\n",
       "   elementCompleteness(body).fieldCompleteness  \\\n",
       "0                                     0.092593   \n",
       "1                                     0.094340   \n",
       "2                                     0.054795   \n",
       "3                                     0.042373   \n",
       "4                                     0.090909   \n",
       "5                                     0.072727   \n",
       "6                                     0.117647   \n",
       "7                                     0.074074   \n",
       "8                                     0.072727   \n",
       "9                                     0.070588   \n",
       "\n",
       "   elementCompleteness(body).queryCompleteness  fieldMatch(body)  \\\n",
       "0                                        0.625          0.127746   \n",
       "1                                        0.625          0.092319   \n",
       "2                                        0.500          0.141511   \n",
       "3                                        0.625          0.250817   \n",
       "4                                        0.500          0.118351   \n",
       "5                                        0.500          0.148612   \n",
       "6                                        0.750          0.345256   \n",
       "7                                        0.750          0.343120   \n",
       "8                                        0.500          0.081461   \n",
       "9                                        0.750          0.308250   \n",
       "\n",
       "   fieldMatch(body).absoluteOccurrence  fieldMatch(body).absoluteProximity  \\\n",
       "0                             0.022000                             0.02600   \n",
       "1                             0.018000                             0.03500   \n",
       "2                             0.030000                             0.07100   \n",
       "3                             0.056000                             0.10000   \n",
       "4                             0.015000                             0.05000   \n",
       "5                             0.015000                             0.10000   \n",
       "6                             0.025000                             0.07700   \n",
       "7                             0.046667                             0.07700   \n",
       "8                             0.027500                             0.10000   \n",
       "9                             0.045000                             0.06675   \n",
       "\n",
       "   fieldMatch(body).completeness  ...  term(3).significance  term(3).weight  \\\n",
       "0                       0.598380  ...              0.504935           100.0   \n",
       "1                       0.598467  ...              0.504935           100.0   \n",
       "2                       0.477740  ...              0.504935           100.0   \n",
       "3                       0.595869  ...              0.504935           100.0   \n",
       "4                       0.479545  ...              0.504935           100.0   \n",
       "5                       0.478636  ...              0.504935           100.0   \n",
       "6                       0.718382  ...              0.504935           100.0   \n",
       "7                       0.716204  ...              0.504935           100.0   \n",
       "8                       0.478636  ...              0.504935           100.0   \n",
       "9                       0.716029  ...              0.504935           100.0   \n",
       "\n",
       "   term(4).connectedness  term(4).significance  term(4).weight  \\\n",
       "0                    0.1              0.674337           100.0   \n",
       "1                    0.1              0.674337           100.0   \n",
       "2                    0.1              0.674337           100.0   \n",
       "3                    0.1              0.674337           100.0   \n",
       "4                    0.1              0.674337           100.0   \n",
       "5                    0.1              0.674337           100.0   \n",
       "6                    0.1              0.674337           100.0   \n",
       "7                    0.1              0.674337           100.0   \n",
       "8                    0.1              0.674337           100.0   \n",
       "9                    0.1              0.674337           100.0   \n",
       "\n",
       "   textSimilarity(body).fieldCoverage  textSimilarity(body).order  \\\n",
       "0                            0.092593                    0.250000   \n",
       "1                            0.094340                    0.750000   \n",
       "2                            0.054795                    0.666667   \n",
       "3                            0.042373                    0.250000   \n",
       "4                            0.090909                    0.666667   \n",
       "5                            0.072727                    0.000000   \n",
       "6                            0.117647                    0.600000   \n",
       "7                            0.074074                    0.600000   \n",
       "8                            0.072727                    0.666667   \n",
       "9                            0.070588                    0.400000   \n",
       "\n",
       "   textSimilarity(body).proximity  textSimilarity(body).queryCoverage  \\\n",
       "0                        0.437500                               0.625   \n",
       "1                        0.234375                               0.625   \n",
       "2                        0.640625                               0.500   \n",
       "3                        0.324219                               0.625   \n",
       "4                        0.557292                               0.500   \n",
       "5                        0.286458                               0.500   \n",
       "6                        0.575000                               0.750   \n",
       "7                        0.615625                               0.750   \n",
       "8                        0.406250                               0.500   \n",
       "9                        0.715625                               0.750   \n",
       "\n",
       "   textSimilarity(body).score  \n",
       "0                    0.396644  \n",
       "1                    0.400899  \n",
       "2                    0.485178  \n",
       "3                    0.346951  \n",
       "4                    0.463234  \n",
       "5                    0.264806  \n",
       "6                    0.539779  \n",
       "7                    0.545284  \n",
       "8                    0.406733  \n",
       "9                    0.549586  \n",
       "\n",
       "[10 rows x 74 columns]"
      ]
     },
     "execution_count": null,
     "metadata": {},
     "output_type": "execute_result"
    }
   ],
   "source": [
    "train_df.head(10)"
   ]
  },
  {
   "cell_type": "markdown",
   "id": "8f6771f8",
   "metadata": {},
   "source": [
    "Similarly, we collected data based on the MS MARCO queries contained on the dev set."
   ]
  },
  {
   "cell_type": "code",
   "execution_count": null,
   "id": "b3a2cf10",
   "metadata": {},
   "outputs": [],
   "source": [
    "dev_df = pd.read_csv(\"https://data.vespa.oath.cloud/blog/ranking/dev_sample.csv\")"
   ]
  },
  {
   "cell_type": "code",
   "execution_count": null,
   "id": "94de6fcf",
   "metadata": {},
   "outputs": [
    {
     "data": {
      "text/plain": [
       "(74103, 72)"
      ]
     },
     "execution_count": null,
     "metadata": {},
     "output_type": "execute_result"
    }
   ],
   "source": [
    "dev_df.shape"
   ]
  },
  {
   "cell_type": "code",
   "execution_count": null,
   "id": "00c9da84",
   "metadata": {},
   "outputs": [
    {
     "data": {
      "text/html": [
       "<div>\n",
       "<style scoped>\n",
       "    .dataframe tbody tr th:only-of-type {\n",
       "        vertical-align: middle;\n",
       "    }\n",
       "\n",
       "    .dataframe tbody tr th {\n",
       "        vertical-align: top;\n",
       "    }\n",
       "\n",
       "    .dataframe thead th {\n",
       "        text-align: right;\n",
       "    }\n",
       "</style>\n",
       "<table border=\"1\" class=\"dataframe\">\n",
       "  <thead>\n",
       "    <tr style=\"text-align: right;\">\n",
       "      <th></th>\n",
       "      <th>document_id</th>\n",
       "      <th>query_id</th>\n",
       "      <th>label</th>\n",
       "      <th>elementCompleteness(body).completeness</th>\n",
       "      <th>elementCompleteness(body).fieldCompleteness</th>\n",
       "      <th>elementCompleteness(body).queryCompleteness</th>\n",
       "      <th>fieldMatch(body)</th>\n",
       "      <th>fieldMatch(body).absoluteOccurrence</th>\n",
       "      <th>fieldMatch(body).absoluteProximity</th>\n",
       "      <th>fieldMatch(body).completeness</th>\n",
       "      <th>...</th>\n",
       "      <th>term(3).significance</th>\n",
       "      <th>term(3).weight</th>\n",
       "      <th>term(4).connectedness</th>\n",
       "      <th>term(4).significance</th>\n",
       "      <th>term(4).weight</th>\n",
       "      <th>textSimilarity(body).fieldCoverage</th>\n",
       "      <th>textSimilarity(body).order</th>\n",
       "      <th>textSimilarity(body).proximity</th>\n",
       "      <th>textSimilarity(body).queryCoverage</th>\n",
       "      <th>textSimilarity(body).score</th>\n",
       "    </tr>\n",
       "  </thead>\n",
       "  <tbody>\n",
       "    <tr>\n",
       "      <th>0</th>\n",
       "      <td>8066640</td>\n",
       "      <td>2</td>\n",
       "      <td>0</td>\n",
       "      <td>0.380952</td>\n",
       "      <td>0.095238</td>\n",
       "      <td>0.666667</td>\n",
       "      <td>0.427344</td>\n",
       "      <td>0.01</td>\n",
       "      <td>0.1</td>\n",
       "      <td>0.638095</td>\n",
       "      <td>...</td>\n",
       "      <td>0.0</td>\n",
       "      <td>0.0</td>\n",
       "      <td>0.0</td>\n",
       "      <td>0.0</td>\n",
       "      <td>0.0</td>\n",
       "      <td>0.095238</td>\n",
       "      <td>1.0</td>\n",
       "      <td>1.0</td>\n",
       "      <td>0.666667</td>\n",
       "      <td>0.719048</td>\n",
       "    </tr>\n",
       "    <tr>\n",
       "      <th>1</th>\n",
       "      <td>4339068</td>\n",
       "      <td>2</td>\n",
       "      <td>1</td>\n",
       "      <td>0.346667</td>\n",
       "      <td>0.026667</td>\n",
       "      <td>0.666667</td>\n",
       "      <td>0.444933</td>\n",
       "      <td>0.04</td>\n",
       "      <td>0.1</td>\n",
       "      <td>0.634667</td>\n",
       "      <td>...</td>\n",
       "      <td>0.0</td>\n",
       "      <td>0.0</td>\n",
       "      <td>0.0</td>\n",
       "      <td>0.0</td>\n",
       "      <td>0.0</td>\n",
       "      <td>0.026667</td>\n",
       "      <td>1.0</td>\n",
       "      <td>1.0</td>\n",
       "      <td>0.666667</td>\n",
       "      <td>0.705333</td>\n",
       "    </tr>\n",
       "    <tr>\n",
       "      <th>2</th>\n",
       "      <td>762768</td>\n",
       "      <td>2</td>\n",
       "      <td>0</td>\n",
       "      <td>0.343750</td>\n",
       "      <td>0.020833</td>\n",
       "      <td>0.666667</td>\n",
       "      <td>0.088859</td>\n",
       "      <td>0.01</td>\n",
       "      <td>0.1</td>\n",
       "      <td>0.634375</td>\n",
       "      <td>...</td>\n",
       "      <td>0.0</td>\n",
       "      <td>0.0</td>\n",
       "      <td>0.0</td>\n",
       "      <td>0.0</td>\n",
       "      <td>0.0</td>\n",
       "      <td>0.020833</td>\n",
       "      <td>1.0</td>\n",
       "      <td>0.0</td>\n",
       "      <td>0.666667</td>\n",
       "      <td>0.354167</td>\n",
       "    </tr>\n",
       "    <tr>\n",
       "      <th>3</th>\n",
       "      <td>3370</td>\n",
       "      <td>2</td>\n",
       "      <td>0</td>\n",
       "      <td>0.180180</td>\n",
       "      <td>0.027027</td>\n",
       "      <td>0.333333</td>\n",
       "      <td>0.162049</td>\n",
       "      <td>0.01</td>\n",
       "      <td>0.1</td>\n",
       "      <td>0.318018</td>\n",
       "      <td>...</td>\n",
       "      <td>0.0</td>\n",
       "      <td>0.0</td>\n",
       "      <td>0.0</td>\n",
       "      <td>0.0</td>\n",
       "      <td>0.0</td>\n",
       "      <td>0.027027</td>\n",
       "      <td>0.0</td>\n",
       "      <td>0.0</td>\n",
       "      <td>0.333333</td>\n",
       "      <td>0.105405</td>\n",
       "    </tr>\n",
       "    <tr>\n",
       "      <th>4</th>\n",
       "      <td>6060</td>\n",
       "      <td>2</td>\n",
       "      <td>0</td>\n",
       "      <td>0.175287</td>\n",
       "      <td>0.017241</td>\n",
       "      <td>0.333333</td>\n",
       "      <td>0.145722</td>\n",
       "      <td>0.01</td>\n",
       "      <td>0.1</td>\n",
       "      <td>0.317529</td>\n",
       "      <td>...</td>\n",
       "      <td>0.0</td>\n",
       "      <td>0.0</td>\n",
       "      <td>0.0</td>\n",
       "      <td>0.0</td>\n",
       "      <td>0.0</td>\n",
       "      <td>0.017241</td>\n",
       "      <td>0.0</td>\n",
       "      <td>0.0</td>\n",
       "      <td>0.333333</td>\n",
       "      <td>0.103448</td>\n",
       "    </tr>\n",
       "    <tr>\n",
       "      <th>5</th>\n",
       "      <td>3798</td>\n",
       "      <td>2</td>\n",
       "      <td>0</td>\n",
       "      <td>0.180556</td>\n",
       "      <td>0.027778</td>\n",
       "      <td>0.333333</td>\n",
       "      <td>0.166942</td>\n",
       "      <td>0.01</td>\n",
       "      <td>0.1</td>\n",
       "      <td>0.318056</td>\n",
       "      <td>...</td>\n",
       "      <td>0.0</td>\n",
       "      <td>0.0</td>\n",
       "      <td>0.0</td>\n",
       "      <td>0.0</td>\n",
       "      <td>0.0</td>\n",
       "      <td>0.027778</td>\n",
       "      <td>0.0</td>\n",
       "      <td>0.0</td>\n",
       "      <td>0.333333</td>\n",
       "      <td>0.105556</td>\n",
       "    </tr>\n",
       "    <tr>\n",
       "      <th>6</th>\n",
       "      <td>2731175</td>\n",
       "      <td>2</td>\n",
       "      <td>0</td>\n",
       "      <td>0.345833</td>\n",
       "      <td>0.025000</td>\n",
       "      <td>0.666667</td>\n",
       "      <td>0.398800</td>\n",
       "      <td>0.01</td>\n",
       "      <td>0.1</td>\n",
       "      <td>0.634583</td>\n",
       "      <td>...</td>\n",
       "      <td>0.0</td>\n",
       "      <td>0.0</td>\n",
       "      <td>0.0</td>\n",
       "      <td>0.0</td>\n",
       "      <td>0.0</td>\n",
       "      <td>0.025000</td>\n",
       "      <td>1.0</td>\n",
       "      <td>1.0</td>\n",
       "      <td>0.666667</td>\n",
       "      <td>0.705000</td>\n",
       "    </tr>\n",
       "    <tr>\n",
       "      <th>7</th>\n",
       "      <td>3634083</td>\n",
       "      <td>2</td>\n",
       "      <td>0</td>\n",
       "      <td>0.351190</td>\n",
       "      <td>0.035714</td>\n",
       "      <td>0.666667</td>\n",
       "      <td>0.423611</td>\n",
       "      <td>0.02</td>\n",
       "      <td>0.1</td>\n",
       "      <td>0.635119</td>\n",
       "      <td>...</td>\n",
       "      <td>0.0</td>\n",
       "      <td>0.0</td>\n",
       "      <td>0.0</td>\n",
       "      <td>0.0</td>\n",
       "      <td>0.0</td>\n",
       "      <td>0.035714</td>\n",
       "      <td>1.0</td>\n",
       "      <td>1.0</td>\n",
       "      <td>0.666667</td>\n",
       "      <td>0.707143</td>\n",
       "    </tr>\n",
       "    <tr>\n",
       "      <th>8</th>\n",
       "      <td>112126</td>\n",
       "      <td>2</td>\n",
       "      <td>0</td>\n",
       "      <td>0.176282</td>\n",
       "      <td>0.019231</td>\n",
       "      <td>0.333333</td>\n",
       "      <td>0.177009</td>\n",
       "      <td>0.02</td>\n",
       "      <td>0.1</td>\n",
       "      <td>0.317628</td>\n",
       "      <td>...</td>\n",
       "      <td>0.0</td>\n",
       "      <td>0.0</td>\n",
       "      <td>0.0</td>\n",
       "      <td>0.0</td>\n",
       "      <td>0.0</td>\n",
       "      <td>0.019231</td>\n",
       "      <td>0.0</td>\n",
       "      <td>0.0</td>\n",
       "      <td>0.333333</td>\n",
       "      <td>0.103846</td>\n",
       "    </tr>\n",
       "    <tr>\n",
       "      <th>9</th>\n",
       "      <td>3387</td>\n",
       "      <td>2</td>\n",
       "      <td>0</td>\n",
       "      <td>0.178571</td>\n",
       "      <td>0.023810</td>\n",
       "      <td>0.333333</td>\n",
       "      <td>0.171357</td>\n",
       "      <td>0.01</td>\n",
       "      <td>0.1</td>\n",
       "      <td>0.317857</td>\n",
       "      <td>...</td>\n",
       "      <td>0.0</td>\n",
       "      <td>0.0</td>\n",
       "      <td>0.0</td>\n",
       "      <td>0.0</td>\n",
       "      <td>0.0</td>\n",
       "      <td>0.023810</td>\n",
       "      <td>0.0</td>\n",
       "      <td>0.0</td>\n",
       "      <td>0.333333</td>\n",
       "      <td>0.104762</td>\n",
       "    </tr>\n",
       "  </tbody>\n",
       "</table>\n",
       "<p>10 rows × 72 columns</p>\n",
       "</div>"
      ],
      "text/plain": [
       "   document_id  query_id  label  elementCompleteness(body).completeness  \\\n",
       "0      8066640         2      0                                0.380952   \n",
       "1      4339068         2      1                                0.346667   \n",
       "2       762768         2      0                                0.343750   \n",
       "3         3370         2      0                                0.180180   \n",
       "4         6060         2      0                                0.175287   \n",
       "5         3798         2      0                                0.180556   \n",
       "6      2731175         2      0                                0.345833   \n",
       "7      3634083         2      0                                0.351190   \n",
       "8       112126         2      0                                0.176282   \n",
       "9         3387         2      0                                0.178571   \n",
       "\n",
       "   elementCompleteness(body).fieldCompleteness  \\\n",
       "0                                     0.095238   \n",
       "1                                     0.026667   \n",
       "2                                     0.020833   \n",
       "3                                     0.027027   \n",
       "4                                     0.017241   \n",
       "5                                     0.027778   \n",
       "6                                     0.025000   \n",
       "7                                     0.035714   \n",
       "8                                     0.019231   \n",
       "9                                     0.023810   \n",
       "\n",
       "   elementCompleteness(body).queryCompleteness  fieldMatch(body)  \\\n",
       "0                                     0.666667          0.427344   \n",
       "1                                     0.666667          0.444933   \n",
       "2                                     0.666667          0.088859   \n",
       "3                                     0.333333          0.162049   \n",
       "4                                     0.333333          0.145722   \n",
       "5                                     0.333333          0.166942   \n",
       "6                                     0.666667          0.398800   \n",
       "7                                     0.666667          0.423611   \n",
       "8                                     0.333333          0.177009   \n",
       "9                                     0.333333          0.171357   \n",
       "\n",
       "   fieldMatch(body).absoluteOccurrence  fieldMatch(body).absoluteProximity  \\\n",
       "0                                 0.01                                 0.1   \n",
       "1                                 0.04                                 0.1   \n",
       "2                                 0.01                                 0.1   \n",
       "3                                 0.01                                 0.1   \n",
       "4                                 0.01                                 0.1   \n",
       "5                                 0.01                                 0.1   \n",
       "6                                 0.01                                 0.1   \n",
       "7                                 0.02                                 0.1   \n",
       "8                                 0.02                                 0.1   \n",
       "9                                 0.01                                 0.1   \n",
       "\n",
       "   fieldMatch(body).completeness  ...  term(3).significance  term(3).weight  \\\n",
       "0                       0.638095  ...                   0.0             0.0   \n",
       "1                       0.634667  ...                   0.0             0.0   \n",
       "2                       0.634375  ...                   0.0             0.0   \n",
       "3                       0.318018  ...                   0.0             0.0   \n",
       "4                       0.317529  ...                   0.0             0.0   \n",
       "5                       0.318056  ...                   0.0             0.0   \n",
       "6                       0.634583  ...                   0.0             0.0   \n",
       "7                       0.635119  ...                   0.0             0.0   \n",
       "8                       0.317628  ...                   0.0             0.0   \n",
       "9                       0.317857  ...                   0.0             0.0   \n",
       "\n",
       "   term(4).connectedness  term(4).significance  term(4).weight  \\\n",
       "0                    0.0                   0.0             0.0   \n",
       "1                    0.0                   0.0             0.0   \n",
       "2                    0.0                   0.0             0.0   \n",
       "3                    0.0                   0.0             0.0   \n",
       "4                    0.0                   0.0             0.0   \n",
       "5                    0.0                   0.0             0.0   \n",
       "6                    0.0                   0.0             0.0   \n",
       "7                    0.0                   0.0             0.0   \n",
       "8                    0.0                   0.0             0.0   \n",
       "9                    0.0                   0.0             0.0   \n",
       "\n",
       "   textSimilarity(body).fieldCoverage  textSimilarity(body).order  \\\n",
       "0                            0.095238                         1.0   \n",
       "1                            0.026667                         1.0   \n",
       "2                            0.020833                         1.0   \n",
       "3                            0.027027                         0.0   \n",
       "4                            0.017241                         0.0   \n",
       "5                            0.027778                         0.0   \n",
       "6                            0.025000                         1.0   \n",
       "7                            0.035714                         1.0   \n",
       "8                            0.019231                         0.0   \n",
       "9                            0.023810                         0.0   \n",
       "\n",
       "   textSimilarity(body).proximity  textSimilarity(body).queryCoverage  \\\n",
       "0                             1.0                            0.666667   \n",
       "1                             1.0                            0.666667   \n",
       "2                             0.0                            0.666667   \n",
       "3                             0.0                            0.333333   \n",
       "4                             0.0                            0.333333   \n",
       "5                             0.0                            0.333333   \n",
       "6                             1.0                            0.666667   \n",
       "7                             1.0                            0.666667   \n",
       "8                             0.0                            0.333333   \n",
       "9                             0.0                            0.333333   \n",
       "\n",
       "   textSimilarity(body).score  \n",
       "0                    0.719048  \n",
       "1                    0.705333  \n",
       "2                    0.354167  \n",
       "3                    0.105405  \n",
       "4                    0.103448  \n",
       "5                    0.105556  \n",
       "6                    0.705000  \n",
       "7                    0.707143  \n",
       "8                    0.103846  \n",
       "9                    0.104762  \n",
       "\n",
       "[10 rows x 72 columns]"
      ]
     },
     "execution_count": null,
     "metadata": {},
     "output_type": "execute_result"
    }
   ],
   "source": [
    "dev_df.head(10)"
   ]
  },
  {
   "cell_type": "markdown",
   "id": "bbaccc80",
   "metadata": {},
   "source": [
    "## Listwise ranking framework"
   ]
  },
  {
   "cell_type": "markdown",
   "id": "d4b79b6c",
   "metadata": {},
   "source": [
    "The `ListwiseRankingFramework` uses [TensorFlow Ranking](https://www.tensorflow.org/ranking) to minimize a listwise loss function that is a smooth approximation of the NDCG metric. The following parameters need to be specified: "
   ]
  },
  {
   "cell_type": "code",
   "execution_count": null,
   "id": "3739cdc9",
   "metadata": {},
   "outputs": [
    {
     "name": "stdout",
     "output_type": "stream",
     "text": [
      "WARNING:tensorflow:There are non-GPU devices in `tf.distribute.Strategy`, not using nccl allreduce.\n",
      "INFO:tensorflow:Using MirroredStrategy with devices ('/job:localhost/replica:0/task:0/device:CPU:0',)\n"
     ]
    }
   ],
   "source": [
    "from learntorank.ranking import ListwiseRankingFramework\n",
    "\n",
    "ranking_framework = ListwiseRankingFramework(\n",
    "    #\n",
    "    # Task related \n",
    "    #\n",
    "    number_documents_per_query=10,  # The size of the list for each sample\n",
    "    top_n=10,                       # What NDCG position we want to optmize, e.g. NDCG@10\n",
    "    #\n",
    "    # Data pipeline \n",
    "    #\n",
    "    batch_size=32,                  # Batch size used when fitting models to the data\n",
    "    shuffle_buffer_size=1000,       # The buffer size used when shuffling data batches.\n",
    "    #\n",
    "    # Hyperparameter tuning \n",
    "    #\n",
    "    tuner_max_trials=3,             # How many trials to execute when search hyperparameters\n",
    "    tuner_executions_per_trial=1,   # How may model fit per trial\n",
    "    tuner_epochs=10,                # How many epochs to use per execution of the trial\n",
    "    tuner_early_stop_patience=None, # Set patience number for early stopping\n",
    "    #\n",
    "    # Final model\n",
    "    #\n",
    "    final_epochs=30                 # Number of epochs to use when fitting the model with specific hyperparameters.\n",
    ")"
   ]
  },
  {
   "cell_type": "markdown",
   "id": "7a03251b",
   "metadata": {},
   "source": [
    "### Data pipeline"
   ]
  },
  {
   "cell_type": "markdown",
   "id": "9b2085c7",
   "metadata": {},
   "source": [
    "It is possible to create TensorFlow data pipelines (`tf.data.Dataset`) either from in-memory data frames or directly from .csv files to avoid the need to load large file into memory. The data pipelines are suited for listwise ranking and can be used as part of a custom tensorflow workflow if desired."
   ]
  },
  {
   "cell_type": "markdown",
   "id": "a6fdd305",
   "metadata": {},
   "source": [
    "Create a `tf.data.Dataset` from in-memory data frames:"
   ]
  },
  {
   "cell_type": "code",
   "execution_count": null,
   "id": "442d6805",
   "metadata": {},
   "outputs": [],
   "source": [
    "tf_ds = ranking_framework.listwise_tf_dataset_from_df(\n",
    "    df=train_df, \n",
    "    feature_names=[\"nativeFieldMatch\", \"nativeProximity\", \"nativeRank\"],\n",
    "    shuffle_buffer_size=3,\n",
    "    batch_size=1\n",
    ")"
   ]
  },
  {
   "cell_type": "markdown",
   "id": "648c9922",
   "metadata": {},
   "source": [
    "Note that the is already suited for listwise learning."
   ]
  },
  {
   "cell_type": "code",
   "execution_count": null,
   "id": "18707ba0",
   "metadata": {},
   "outputs": [
    {
     "name": "stdout",
     "output_type": "stream",
     "text": [
      "(<tf.Tensor: shape=(1, 10, 3), dtype=float32, numpy=\n",
      "array([[[1.9765680e-01, 6.5953881e-02, 9.5175676e-02],\n",
      "        [1.3242842e-01, 1.1140537e-01, 7.1235448e-02],\n",
      "        [3.4112938e-02, 1.2160993e-37, 1.5161305e-02],\n",
      "        [1.5705481e-01, 4.0344268e-02, 7.4284837e-02],\n",
      "        [8.6454414e-02, 3.2825880e-02, 4.2071503e-02],\n",
      "        [1.9139472e-01, 1.1913208e-01, 9.8301217e-02],\n",
      "        [4.8045117e-02, 1.2160993e-37, 2.1353386e-02],\n",
      "        [1.4903504e-01, 1.3032080e-01, 8.0717884e-02],\n",
      "        [6.3953400e-02, 2.8740479e-02, 3.1617120e-02],\n",
      "        [1.5656856e-01, 6.8069249e-02, 7.7149279e-02]]], dtype=float32)>, <tf.Tensor: shape=(1, 10), dtype=float32, numpy=array([[0., 0., 0., 0., 0., 0., 0., 1., 0., 0.]], dtype=float32)>)\n"
     ]
    }
   ],
   "source": [
    "for batch in tf_ds.take(1):\n",
    "    print(batch)"
   ]
  },
  {
   "cell_type": "markdown",
   "id": "4f871511",
   "metadata": {},
   "source": [
    "For large data, we can also create a listwise `tf.data.Dataset` directly from a .csv file, without the need to load it into memory:"
   ]
  },
  {
   "cell_type": "code",
   "execution_count": null,
   "id": "11a43d99",
   "metadata": {},
   "outputs": [],
   "source": [
    "train_df.to_csv(\"train_sample.csv\", index=False)"
   ]
  },
  {
   "cell_type": "code",
   "execution_count": null,
   "id": "b94d8dd0",
   "metadata": {},
   "outputs": [],
   "source": [
    "tf_ds = ranking_framework.listwise_tf_dataset_from_csv(\n",
    "    file_path=\"train_sample.csv\",\n",
    "    feature_names=[\"nativeFieldMatch\", \"nativeProximity\", \"nativeRank\"],\n",
    "    shuffle_buffer_size=3,\n",
    "    batch_size=1\n",
    ")"
   ]
  },
  {
   "cell_type": "code",
   "execution_count": null,
   "id": "8d66757c",
   "metadata": {},
   "outputs": [
    {
     "name": "stdout",
     "output_type": "stream",
     "text": [
      "(<tf.Tensor: shape=(1, 10, 3), dtype=float32, numpy=\n",
      "array([[[0.08348585, 0.04784278, 0.04242069],\n",
      "        [0.08451388, 0.01466913, 0.03919163],\n",
      "        [0.07139124, 0.02419666, 0.03441796],\n",
      "        [0.07348892, 0.02119719, 0.03501699],\n",
      "        [0.11205826, 0.10210748, 0.06114895],\n",
      "        [0.06779736, 0.02308168, 0.03269679],\n",
      "        [0.08361208, 0.00839302, 0.03809348],\n",
      "        [0.13477945, 0.13513905, 0.07491743],\n",
      "        [0.17734438, 0.18263273, 0.09911225],\n",
      "        [0.12978926, 0.15896696, 0.07534712]]], dtype=float32)>, <tf.Tensor: shape=(1, 10), dtype=float32, numpy=array([[0., 0., 0., 0., 0., 0., 0., 0., 1., 0.]], dtype=float32)>)\n"
     ]
    }
   ],
   "source": [
    "for batch in tf_ds.take(1):\n",
    "    print(batch)"
   ]
  },
  {
   "cell_type": "markdown",
   "id": "5ec8c53e",
   "metadata": {},
   "source": [
    "### Pre-defined models"
   ]
  },
  {
   "cell_type": "markdown",
   "id": "05a7ca9f",
   "metadata": {},
   "source": [
    "The ranking framework comes with same pre-defined models in case you don't want to use the data pipelines to create your own workflow. It is possible to specify either a `DataFrame` or a `.csv` file path as the train and dev input data. If the `hyperparameters` argument is not specified it will search through the hyperparameter space accordinng to the arguments defined when creating and instance of the `ListwiseRankingFramework`."
   ]
  },
  {
   "cell_type": "markdown",
   "id": "ffb3eeaa",
   "metadata": {},
   "source": [
    "#### Linear model"
   ]
  },
  {
   "cell_type": "code",
   "execution_count": null,
   "id": "dcd13857",
   "metadata": {},
   "outputs": [],
   "source": [
    "weights, dev_eval, best_hyperparams = ranking_framework.fit_linear_model(\n",
    "    train_data=train_df, \n",
    "    dev_data=dev_df, \n",
    "    feature_names=[\n",
    "        \"fieldMatch(body).proximity\",\n",
    "        \"fieldMatch(body).queryCompleteness\",\n",
    "        \"fieldMatch(body).significance\",\n",
    "        \"nativeFieldMatch\",\n",
    "        \"nativeProximity\",\n",
    "        \"nativeRank\",\n",
    "    ],\n",
    "    hyperparameters=None # Search for best hyperparameters\n",
    ")"
   ]
  },
  {
   "cell_type": "code",
   "execution_count": null,
   "id": "a1bbd3d0",
   "metadata": {},
   "outputs": [
    {
     "data": {
      "text/plain": [
       "{'learning_rate': 6.018683626059954}"
      ]
     },
     "execution_count": null,
     "metadata": {},
     "output_type": "execute_result"
    }
   ],
   "source": [
    "best_hyperparams"
   ]
  },
  {
   "cell_type": "code",
   "execution_count": null,
   "id": "e9892f87",
   "metadata": {},
   "outputs": [
    {
     "data": {
      "text/plain": [
       "{'feature_names': ['fieldMatch(body).proximity',\n",
       "  'fieldMatch(body).queryCompleteness',\n",
       "  'fieldMatch(body).significance',\n",
       "  'nativeFieldMatch',\n",
       "  'nativeProximity',\n",
       "  'nativeRank'],\n",
       " 'linear_model_weights': [0.46931159496307373,\n",
       "  -30.97307014465332,\n",
       "  28.785017013549805,\n",
       "  18.257308959960938,\n",
       "  12.566983222961426,\n",
       "  10.918502807617188]}"
      ]
     },
     "execution_count": null,
     "metadata": {},
     "output_type": "execute_result"
    }
   ],
   "source": [
    "weights"
   ]
  },
  {
   "cell_type": "code",
   "execution_count": null,
   "id": "a693bea6",
   "metadata": {},
   "outputs": [
    {
     "data": {
      "text/plain": [
       "0.7916887402534485"
      ]
     },
     "execution_count": null,
     "metadata": {},
     "output_type": "execute_result"
    }
   ],
   "source": [
    "dev_eval"
   ]
  },
  {
   "cell_type": "markdown",
   "id": "902c3f79",
   "metadata": {},
   "source": [
    "If we instead specify the hyperpameters, hyperparameter search will be skipped."
   ]
  },
  {
   "cell_type": "code",
   "execution_count": null,
   "id": "58ea4d0b",
   "metadata": {},
   "outputs": [],
   "source": [
    "weights, dev_eval, best_hyperparams = ranking_framework.fit_linear_model(\n",
    "    train_data=train_df, \n",
    "    dev_data=dev_df, \n",
    "    feature_names=[\n",
    "        \"fieldMatch(body).proximity\",\n",
    "        \"fieldMatch(body).queryCompleteness\",\n",
    "        \"fieldMatch(body).significance\",\n",
    "        \"nativeFieldMatch\",\n",
    "        \"nativeProximity\",\n",
    "        \"nativeRank\",\n",
    "    ],\n",
    "    hyperparameters={'learning_rate': 6.018683626059954} \n",
    ")"
   ]
  },
  {
   "cell_type": "markdown",
   "id": "1f105f46",
   "metadata": {},
   "source": [
    "#### Lasso model"
   ]
  },
  {
   "cell_type": "code",
   "execution_count": null,
   "id": "a2133e37",
   "metadata": {},
   "outputs": [],
   "source": [
    "weights, dev_eval, best_hyperparams = ranking_framework.fit_lasso_linear_model(\n",
    "    train_data=train_df, \n",
    "    dev_data=dev_df, \n",
    "    feature_names=[\n",
    "        \"fieldMatch(body).proximity\",\n",
    "        \"fieldMatch(body).queryCompleteness\",\n",
    "        \"fieldMatch(body).significance\",\n",
    "        \"nativeFieldMatch\",\n",
    "        \"nativeProximity\",\n",
    "        \"nativeRank\",\n",
    "    ]\n",
    ")"
   ]
  },
  {
   "cell_type": "code",
   "execution_count": null,
   "id": "c32761db",
   "metadata": {},
   "outputs": [
    {
     "name": "stdout",
     "output_type": "stream",
     "text": [
      "{'lambda': 0.0023227311360666802, 'learning_rate': 0.14885653869373894}\n"
     ]
    }
   ],
   "source": [
    "print(best_hyperparams)"
   ]
  },
  {
   "cell_type": "code",
   "execution_count": null,
   "id": "f587af41",
   "metadata": {},
   "outputs": [
    {
     "name": "stdout",
     "output_type": "stream",
     "text": [
      "{'feature_names': ['fieldMatch(body).proximity', 'fieldMatch(body).queryCompleteness', 'fieldMatch(body).significance', 'nativeFieldMatch', 'nativeProximity', 'nativeRank'], 'normalization_mean': [0.8184928894042969, 0.530807375907898, 0.5052036643028259, 0.0906180813908577, 0.039063721895217896, 0.04461509734392166], 'normalization_sd': [0.08662283420562744, 0.05760122463107109, 0.06236378848552704, 0.003072209656238556, 0.003147233510389924, 0.0008713427814655006], 'normalization_number_data': 96990, 'linear_model_weights': [-0.022373167797923088, -2.1850321292877197, 2.055746078491211, 0.21248634159564972, 0.2774745225906372, 0.6118378043174744]}\n"
     ]
    }
   ],
   "source": [
    "print(weights)"
   ]
  },
  {
   "cell_type": "code",
   "execution_count": null,
   "id": "13c01ce1",
   "metadata": {},
   "outputs": [
    {
     "name": "stdout",
     "output_type": "stream",
     "text": [
      "0.7700856328010559\n"
     ]
    }
   ],
   "source": [
    "print(dev_eval)"
   ]
  },
  {
   "cell_type": "markdown",
   "id": "ccd7008c",
   "metadata": {},
   "source": [
    "### Feature selection"
   ]
  },
  {
   "cell_type": "markdown",
   "id": "8cc422dc",
   "metadata": {},
   "source": [
    "The are some pre-defined algorithms that can be used for feature selection. The goal is to find a subset of features that are responsible for most of the evaluation metric gains."
   ]
  },
  {
   "cell_type": "markdown",
   "id": "6ca743c8",
   "metadata": {},
   "source": [
    "#### Lasso model search"
   ]
  },
  {
   "cell_type": "markdown",
   "id": "a77a5a9b",
   "metadata": {},
   "source": [
    "Fit a lasso model with all `feature_names`. Sequentially remove the feature with the smallest absolute weight until there is only one feature in the model."
   ]
  },
  {
   "cell_type": "code",
   "execution_count": null,
   "id": "e6d453e5",
   "metadata": {},
   "outputs": [],
   "source": [
    "results = ranking_framework.lasso_model_search(\n",
    "    train_data=train_df, \n",
    "    dev_data=dev_df, \n",
    "    feature_names=[\n",
    "        \"fieldMatch(body).proximity\",\n",
    "        \"fieldMatch(body).queryCompleteness\",\n",
    "        \"fieldMatch(body).significance\",\n",
    "        \"nativeFieldMatch\",\n",
    "        \"nativeProximity\",\n",
    "        \"nativeRank\",\n",
    "    ],\n",
    "    output_file=\"lasso_model_search.json\",\n",
    ")"
   ]
  },
  {
   "cell_type": "code",
   "execution_count": null,
   "id": "50b86a57",
   "metadata": {},
   "outputs": [
    {
     "data": {
      "text/plain": [
       "['Number of features 6; Eval metric: 0.7820510864257812',\n",
       " 'Number of features 5; Eval metric: 0.7812100052833557',\n",
       " 'Number of features 4; Eval metric: 0.7958707809448242',\n",
       " 'Number of features 3; Eval metric: 0.7378504872322083',\n",
       " 'Number of features 2; Eval metric: 0.7098456025123596',\n",
       " 'Number of features 1; Eval metric: 0.7048170566558838']"
      ]
     },
     "execution_count": null,
     "metadata": {},
     "output_type": "execute_result"
    }
   ],
   "source": [
    "[\n",
    "    f\"Number of features {len(result['weights']['feature_names'])}; Eval metric: {result['evaluation']}\"  \n",
    "    for result in results\n",
    "]"
   ]
  },
  {
   "cell_type": "code",
   "execution_count": null,
   "id": "eb8eb6a8",
   "metadata": {},
   "outputs": [
    {
     "data": {
      "text/plain": [
       "[['fieldMatch(body).proximity',\n",
       "  'fieldMatch(body).queryCompleteness',\n",
       "  'fieldMatch(body).significance',\n",
       "  'nativeFieldMatch',\n",
       "  'nativeProximity',\n",
       "  'nativeRank'],\n",
       " ['fieldMatch(body).queryCompleteness',\n",
       "  'fieldMatch(body).significance',\n",
       "  'nativeFieldMatch',\n",
       "  'nativeProximity',\n",
       "  'nativeRank'],\n",
       " ['fieldMatch(body).queryCompleteness',\n",
       "  'fieldMatch(body).significance',\n",
       "  'nativeFieldMatch',\n",
       "  'nativeRank'],\n",
       " ['fieldMatch(body).queryCompleteness',\n",
       "  'fieldMatch(body).significance',\n",
       "  'nativeRank'],\n",
       " ['fieldMatch(body).queryCompleteness', 'nativeRank'],\n",
       " ['nativeRank']]"
      ]
     },
     "execution_count": null,
     "metadata": {},
     "output_type": "execute_result"
    }
   ],
   "source": [
    "[result['weights']['feature_names'] for result in results]"
   ]
  },
  {
   "cell_type": "markdown",
   "id": "24562cb4",
   "metadata": {},
   "source": [
    "#### Forward selection "
   ]
  },
  {
   "cell_type": "markdown",
   "id": "4af95c44",
   "metadata": {},
   "source": [
    "Incrementally add one feature at a time and keep the features that maximize the validation metric."
   ]
  },
  {
   "cell_type": "code",
   "execution_count": null,
   "id": "087bcb35",
   "metadata": {},
   "outputs": [],
   "source": [
    "forward_results = ranking_framework.forward_selection_model_search(\n",
    "    train_data=train_df, \n",
    "    dev_data=dev_df, \n",
    "    feature_names=[\n",
    "        \"fieldMatch(body).proximity\",\n",
    "        \"fieldMatch(body).queryCompleteness\",\n",
    "        \"fieldMatch(body).significance\",\n",
    "        \"nativeFieldMatch\",\n",
    "        \"nativeProximity\",\n",
    "        \"nativeRank\",\n",
    "    ],\n",
    "    output_file=\"forward_model_search.json\",\n",
    ")"
   ]
  },
  {
   "cell_type": "markdown",
   "id": "31e80205",
   "metadata": {},
   "source": [
    "Evaluation metric for one feature model."
   ]
  },
  {
   "cell_type": "code",
   "execution_count": null,
   "id": "f3993e45",
   "metadata": {},
   "outputs": [
    {
     "data": {
      "text/plain": [
       "[(0.4771268367767334, ['fieldMatch(body).proximity']),\n",
       " (0.5774978995323181, ['fieldMatch(body).queryCompleteness']),\n",
       " (0.3523213565349579, ['fieldMatch(body).significance']),\n",
       " (0.693596601486206, ['nativeFieldMatch']),\n",
       " (0.673930287361145, ['nativeProximity']),\n",
       " (0.704784631729126, ['nativeRank'])]"
      ]
     },
     "execution_count": null,
     "metadata": {},
     "output_type": "execute_result"
    }
   ],
   "source": [
    "[\n",
    "    (result[\"evaluation\"], result[\"weights\"][\"feature_names\"]) for \n",
    "     result in forward_results \n",
    "     if result[\"number_features\"] == 1\n",
    "]"
   ]
  },
  {
   "cell_type": "markdown",
   "id": "b71483e8",
   "metadata": {},
   "source": [
    "Evaluation metric for two features keeping the best feature of the oe-feature model"
   ]
  },
  {
   "cell_type": "code",
   "execution_count": null,
   "id": "42284b59",
   "metadata": {},
   "outputs": [
    {
     "data": {
      "text/plain": [
       "[(0.7052107453346252, ['nativeRank', 'fieldMatch(body).proximity']),\n",
       " (0.7083131670951843, ['nativeRank', 'fieldMatch(body).queryCompleteness']),\n",
       " (0.7050297260284424, ['nativeRank', 'fieldMatch(body).significance']),\n",
       " (0.7048313617706299, ['nativeRank', 'nativeFieldMatch']),\n",
       " (0.7088075876235962, ['nativeRank', 'nativeProximity'])]"
      ]
     },
     "execution_count": null,
     "metadata": {},
     "output_type": "execute_result"
    }
   ],
   "source": [
    "[\n",
    "    (result[\"evaluation\"], result[\"weights\"][\"feature_names\"]) for \n",
    "     result in forward_results \n",
    "     if result[\"number_features\"] == 2\n",
    "]"
   ]
  },
  {
   "cell_type": "markdown",
   "id": "fc01f944",
   "metadata": {},
   "source": [
    "And so on:"
   ]
  },
  {
   "cell_type": "code",
   "execution_count": null,
   "id": "bd5b54c3",
   "metadata": {},
   "outputs": [
    {
     "data": {
      "text/plain": [
       "[(0.7087035179138184,\n",
       "  ['nativeRank', 'nativeProximity', 'fieldMatch(body).proximity']),\n",
       " (0.7237873673439026,\n",
       "  ['nativeRank', 'nativeProximity', 'fieldMatch(body).queryCompleteness']),\n",
       " (0.7073785662651062,\n",
       "  ['nativeRank', 'nativeProximity', 'fieldMatch(body).significance']),\n",
       " (0.709153413772583, ['nativeRank', 'nativeProximity', 'nativeFieldMatch'])]"
      ]
     },
     "execution_count": null,
     "metadata": {},
     "output_type": "execute_result"
    }
   ],
   "source": [
    "[\n",
    "    (result[\"evaluation\"], result[\"weights\"][\"feature_names\"]) for \n",
    "     result in forward_results \n",
    "     if result[\"number_features\"] == 3\n",
    "]"
   ]
  }
 ],
 "metadata": {
  "kernelspec": {
   "display_name": "python3",
   "language": "python",
   "name": "python3"
  }
 },
 "nbformat": 4,
 "nbformat_minor": 5
}
