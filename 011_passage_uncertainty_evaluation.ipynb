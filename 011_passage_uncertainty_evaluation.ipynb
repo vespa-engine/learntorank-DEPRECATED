{
 "cells": [
  {
   "cell_type": "raw",
   "metadata": {},
   "source": [
    "---\n",
    "output-file: passage_uncertainty_evaluation\n",
    "---"
   ]
  },
  {
   "cell_type": "code",
   "execution_count": null,
   "metadata": {},
   "outputs": [],
   "source": [
    "%load_ext autoreload\n",
    "%autoreload 2"
   ]
  },
  {
   "cell_type": "code",
   "execution_count": null,
   "metadata": {},
   "outputs": [],
   "source": [
    "#|hide\n",
    "from nbdev import show_doc, nbdev_export"
   ]
  },
  {
   "cell_type": "markdown",
   "metadata": {},
   "source": [
    "# IR evaluation metrics with uncertainty estimates\n",
    "\n",
    "> Compare different metrics and their uncertainty in the passage ranking dataset."
   ]
  },
  {
   "cell_type": "markdown",
   "metadata": {},
   "source": [
    "When working with search engine apps, be it a text search or a recommendation system, part of the job is doing experiments around components such as ranking functions and deciding which experiments deliver the best result."
   ]
  },
  {
   "cell_type": "markdown",
   "metadata": {},
   "source": [
    "This tutorial builds a text search app with [Vespa](https://vespa.ai/), feeds a sample of the passage ranking dataset to the app, and evaluates two ranking functions across three different metrics. **In addition to return point estimates of the evaluation metrics, we compute confidence intervals as illustrated in the plot below**. Measuring uncertainty around the metric estimates gives us a better sense of how significant is the impact of our changes in the application."
   ]
  },
  {
   "cell_type": "markdown",
   "metadata": {},
   "source": [
    "![](resources/passage/passage_uncertainty.png)"
   ]
  },
  {
   "cell_type": "markdown",
   "metadata": {},
   "source": [
    "The code and the data used in this end-to-end tutorial are available and can be reproduced in a Jupyter Notebook."
   ]
  },
  {
   "cell_type": "markdown",
   "metadata": {},
   "source": [
    "## Create the Vespa application package"
   ]
  },
  {
   "cell_type": "markdown",
   "metadata": {},
   "source": [
    "Create a Vespa application package to perform passage ranking experiments using the `create_basic_search_package`."
   ]
  },
  {
   "cell_type": "code",
   "execution_count": null,
   "metadata": {},
   "outputs": [],
   "source": [
    "from learntorank.passage import create_basic_search_package\n",
    "\n",
    "app_package = create_basic_search_package()"
   ]
  },
  {
   "cell_type": "markdown",
   "metadata": {},
   "source": [
    "We can inspect how the [Vespa search definition](https://docs.vespa.ai/en/schemas.html) file looks like:"
   ]
  },
  {
   "cell_type": "code",
   "execution_count": null,
   "metadata": {},
   "outputs": [
    {
     "name": "stdout",
     "output_type": "stream",
     "text": [
      "schema PassageRanking {\n",
      "    document PassageRanking {\n",
      "        field doc_id type string {\n",
      "            indexing: attribute | summary\n",
      "        }\n",
      "        field text type string {\n",
      "            indexing: index | summary\n",
      "            index: enable-bm25\n",
      "        }\n",
      "    }\n",
      "    fieldset default {\n",
      "        fields: text\n",
      "    }\n",
      "    rank-profile bm25 {\n",
      "        first-phase {\n",
      "            expression: bm25(text)\n",
      "        }\n",
      "        summary-features {\n",
      "            bm25(text)\n",
      "        }\n",
      "    }\n",
      "    rank-profile native_rank {\n",
      "        first-phase {\n",
      "            expression: nativeRank(text)\n",
      "        }\n",
      "    }\n",
      "}\n"
     ]
    }
   ],
   "source": [
    "print(app_package.schema.schema_to_text)"
   ]
  },
  {
   "cell_type": "markdown",
   "metadata": {},
   "source": [
    "In this tutorial, we are going to compare two ranking functions. One is based on [NativeRank](https://docs.vespa.ai/en/reference/nativerank.html), and the other is based on [BM25](https://docs.vespa.ai/en/reference/bm25.html)."
   ]
  },
  {
   "cell_type": "markdown",
   "metadata": {},
   "source": [
    "## Deploy the application"
   ]
  },
  {
   "cell_type": "markdown",
   "metadata": {},
   "source": [
    "Deploy the application package in a Docker container for local development. Alternatively, it is possible to deploy the application package to [Vespa Cloud](https://pyvespa.readthedocs.io/en/latest/deploy-vespa-cloud.html)."
   ]
  },
  {
   "cell_type": "code",
   "execution_count": null,
   "metadata": {},
   "outputs": [
    {
     "name": "stdout",
     "output_type": "stream",
     "text": [
      "Waiting for configuration server, 0/300 seconds...\n",
      "Waiting for configuration server, 5/300 seconds...\n",
      "Waiting for application status, 0/300 seconds...\n",
      "Waiting for application status, 5/300 seconds...\n",
      "Waiting for application status, 10/300 seconds...\n",
      "Waiting for application status, 15/300 seconds...\n",
      "Waiting for application status, 20/300 seconds...\n",
      "Finished deployment.\n"
     ]
    }
   ],
   "source": [
    "from vespa.deployment import VespaDocker\n",
    "\n",
    "vespa_docker = VespaDocker()\n",
    "app = vespa_docker.deploy(application_package=app_package)"
   ]
  },
  {
   "cell_type": "markdown",
   "metadata": {},
   "source": [
    "Once the deployment is finished, we can interact with the deployed application through the `app` variable."
   ]
  },
  {
   "cell_type": "markdown",
   "metadata": {},
   "source": [
    "## Get sample data"
   ]
  },
  {
   "cell_type": "markdown",
   "metadata": {},
   "source": [
    "We can load passage ranking sample data with `PassageData.load`. By default, it will download pre-generated sample data."
   ]
  },
  {
   "cell_type": "code",
   "execution_count": null,
   "metadata": {},
   "outputs": [],
   "source": [
    "from learntorank.passage import PassageData\n",
    "\n",
    "data = PassageData.load()"
   ]
  },
  {
   "cell_type": "code",
   "execution_count": null,
   "metadata": {},
   "outputs": [
    {
     "data": {
      "text/plain": [
       "PassageData(corpus, train_qrels, train_queries, dev_qrels, dev_queries)"
      ]
     },
     "execution_count": null,
     "metadata": {},
     "output_type": "execute_result"
    }
   ],
   "source": [
    "data"
   ]
  },
  {
   "cell_type": "code",
   "execution_count": null,
   "metadata": {},
   "outputs": [
    {
     "name": "stdout",
     "output_type": "stream",
     "text": [
      "Number of documents: 1000\n",
      "Number of train queries: 100\n",
      "Number of train relevance judgments: 100\n",
      "Number of dev queries: 100\n",
      "Number of dev relevance judgments: 100\n"
     ]
    }
   ],
   "source": [
    "data.summary"
   ]
  },
  {
   "cell_type": "markdown",
   "metadata": {},
   "source": [
    "## Feed the application"
   ]
  },
  {
   "cell_type": "markdown",
   "metadata": {},
   "source": [
    "Get the document corpus in a `DataFrame` format."
   ]
  },
  {
   "cell_type": "code",
   "execution_count": null,
   "metadata": {},
   "outputs": [
    {
     "data": {
      "text/html": [
       "<div>\n",
       "<style scoped>\n",
       "    .dataframe tbody tr th:only-of-type {\n",
       "        vertical-align: middle;\n",
       "    }\n",
       "\n",
       "    .dataframe tbody tr th {\n",
       "        vertical-align: top;\n",
       "    }\n",
       "\n",
       "    .dataframe thead th {\n",
       "        text-align: right;\n",
       "    }\n",
       "</style>\n",
       "<table border=\"1\" class=\"dataframe\">\n",
       "  <thead>\n",
       "    <tr style=\"text-align: right;\">\n",
       "      <th></th>\n",
       "      <th>doc_id</th>\n",
       "      <th>text</th>\n",
       "    </tr>\n",
       "  </thead>\n",
       "  <tbody>\n",
       "    <tr>\n",
       "      <th>0</th>\n",
       "      <td>5954248</td>\n",
       "      <td>Why GameStop is excited for Dragon Age: Inquis...</td>\n",
       "    </tr>\n",
       "    <tr>\n",
       "      <th>1</th>\n",
       "      <td>7290700</td>\n",
       "      <td>metaplasia definition: 1. abnormal change of o...</td>\n",
       "    </tr>\n",
       "    <tr>\n",
       "      <th>2</th>\n",
       "      <td>5465518</td>\n",
       "      <td>Candice Net Worth. According to the report of ...</td>\n",
       "    </tr>\n",
       "    <tr>\n",
       "      <th>3</th>\n",
       "      <td>3100518</td>\n",
       "      <td>Under the Base Closure Act, March AFB was down...</td>\n",
       "    </tr>\n",
       "    <tr>\n",
       "      <th>4</th>\n",
       "      <td>3207764</td>\n",
       "      <td>There are a number of career opportunities for...</td>\n",
       "    </tr>\n",
       "  </tbody>\n",
       "</table>\n",
       "</div>"
      ],
      "text/plain": [
       "    doc_id                                               text\n",
       "0  5954248  Why GameStop is excited for Dragon Age: Inquis...\n",
       "1  7290700  metaplasia definition: 1. abnormal change of o...\n",
       "2  5465518  Candice Net Worth. According to the report of ...\n",
       "3  3100518  Under the Base Closure Act, March AFB was down...\n",
       "4  3207764  There are a number of career opportunities for..."
      ]
     },
     "execution_count": null,
     "metadata": {},
     "output_type": "execute_result"
    }
   ],
   "source": [
    "corpus_df = data.get_corpus()\n",
    "corpus_df.head()"
   ]
  },
  {
   "cell_type": "markdown",
   "metadata": {},
   "source": [
    "Feed the data to the deployed application."
   ]
  },
  {
   "cell_type": "code",
   "execution_count": null,
   "metadata": {},
   "outputs": [
    {
     "name": "stdout",
     "output_type": "stream",
     "text": [
      "Successful documents fed: 1000/1000.\n",
      "Batch progress: 1/1.\n"
     ]
    }
   ],
   "source": [
    "#|notest\n",
    "responses = app.feed_df(df=corpus_df, include_id=True, id_field=\"doc_id\")"
   ]
  },
  {
   "cell_type": "markdown",
   "metadata": {},
   "source": [
    "We can also check the number of successfully fed documents through the responses status code:"
   ]
  },
  {
   "cell_type": "code",
   "execution_count": null,
   "metadata": {},
   "outputs": [
    {
     "data": {
      "text/plain": [
       "1000"
      ]
     },
     "execution_count": null,
     "metadata": {},
     "output_type": "execute_result"
    }
   ],
   "source": [
    "#|notest\n",
    "sum([response.status_code == 200 for response in responses])"
   ]
  },
  {
   "cell_type": "markdown",
   "metadata": {},
   "source": [
    "## Query the application"
   ]
  },
  {
   "cell_type": "markdown",
   "metadata": {},
   "source": [
    "Get the dev set queries in a `DataFrame` format."
   ]
  },
  {
   "cell_type": "code",
   "execution_count": null,
   "metadata": {},
   "outputs": [
    {
     "data": {
      "text/html": [
       "<div>\n",
       "<style scoped>\n",
       "    .dataframe tbody tr th:only-of-type {\n",
       "        vertical-align: middle;\n",
       "    }\n",
       "\n",
       "    .dataframe tbody tr th {\n",
       "        vertical-align: top;\n",
       "    }\n",
       "\n",
       "    .dataframe thead th {\n",
       "        text-align: right;\n",
       "    }\n",
       "</style>\n",
       "<table border=\"1\" class=\"dataframe\">\n",
       "  <thead>\n",
       "    <tr style=\"text-align: right;\">\n",
       "      <th></th>\n",
       "      <th>query_id</th>\n",
       "      <th>query</th>\n",
       "    </tr>\n",
       "  </thead>\n",
       "  <tbody>\n",
       "    <tr>\n",
       "      <th>0</th>\n",
       "      <td>1101971</td>\n",
       "      <td>why say the sky is the limit</td>\n",
       "    </tr>\n",
       "    <tr>\n",
       "      <th>1</th>\n",
       "      <td>712898</td>\n",
       "      <td>what is an cvc in radiology</td>\n",
       "    </tr>\n",
       "    <tr>\n",
       "      <th>2</th>\n",
       "      <td>154469</td>\n",
       "      <td>dmv california how long does it take to get id</td>\n",
       "    </tr>\n",
       "    <tr>\n",
       "      <th>3</th>\n",
       "      <td>930015</td>\n",
       "      <td>what's an epigraph</td>\n",
       "    </tr>\n",
       "    <tr>\n",
       "      <th>4</th>\n",
       "      <td>860085</td>\n",
       "      <td>what is va tax</td>\n",
       "    </tr>\n",
       "  </tbody>\n",
       "</table>\n",
       "</div>"
      ],
      "text/plain": [
       "  query_id                                           query\n",
       "0  1101971                    why say the sky is the limit\n",
       "1   712898                     what is an cvc in radiology\n",
       "2   154469  dmv california how long does it take to get id\n",
       "3   930015                              what's an epigraph\n",
       "4   860085                                  what is va tax"
      ]
     },
     "execution_count": null,
     "metadata": {},
     "output_type": "execute_result"
    }
   ],
   "source": [
    "dev_queries_df = data.get_queries(type=\"dev\")\n",
    "dev_queries_df.head()"
   ]
  },
  {
   "cell_type": "markdown",
   "metadata": {},
   "source": [
    "Get the first query text to use as an example when querying our passage search application."
   ]
  },
  {
   "cell_type": "code",
   "execution_count": null,
   "metadata": {},
   "outputs": [
    {
     "data": {
      "text/plain": [
       "'why say the sky is the limit'"
      ]
     },
     "execution_count": null,
     "metadata": {},
     "output_type": "execute_result"
    }
   ],
   "source": [
    "sample_query = dev_queries_df.loc[0, \"query\"]\n",
    "sample_query"
   ]
  },
  {
   "cell_type": "markdown",
   "metadata": {},
   "source": [
    "### Query with QueryModel"
   ]
  },
  {
   "cell_type": "markdown",
   "metadata": {},
   "source": [
    "Create the `bm25` [QueryModel](https://pyvespa.readthedocs.io/en/latest/reference-api.html#querymodel), which uses [Vespa's weakAnd](https://docs.vespa.ai/en/reference/query-language-reference.html#weakand) operator to match documents relevant to the query and use the `bm25` `rank-profile` that we defined in the application package above to rank the documents."
   ]
  },
  {
   "cell_type": "code",
   "execution_count": null,
   "metadata": {},
   "outputs": [],
   "source": [
    "from learntorank.query import QueryModel, WeakAnd, Ranking\n",
    "\n",
    "bm25_query_model = QueryModel(\n",
    "    name=\"bm25\", \n",
    "    match_phase=WeakAnd(hits=100), \n",
    "    ranking=Ranking(name=\"bm25\")\n",
    ")"
   ]
  },
  {
   "cell_type": "markdown",
   "metadata": {},
   "source": [
    "Once a `QueryModel` is specified, we can use it to query our application."
   ]
  },
  {
   "cell_type": "code",
   "execution_count": null,
   "metadata": {},
   "outputs": [
    {
     "name": "stdout",
     "output_type": "stream",
     "text": [
      "[{'fields': {'doc_id': '7407715',\n",
      "             'documentid': 'id:PassageRanking:PassageRanking::7407715',\n",
      "             'sddocname': 'PassageRanking',\n",
      "             'summaryfeatures': {'bm25(text)': 11.979235042476953,\n",
      "                                 'vespa.summaryFeatures.cached': 0.0},\n",
      "             'text': 'The Sky is the Limit also known as TSITL is a global '\n",
      "                     'effort designed to influence, motivate and inspire '\n",
      "                     'people all over the world to achieve their goals and '\n",
      "                     'dreams in life. TSITL’s collaborative community on '\n",
      "                     'social media provides you with a vast archive of '\n",
      "                     'motivational pictures/quotes/videos.'},\n",
      "  'id': 'id:PassageRanking:PassageRanking::7407715',\n",
      "  'relevance': 11.979235042476953,\n",
      "  'source': 'PassageRanking_content'},\n",
      " {'fields': {'doc_id': '84721',\n",
      "             'documentid': 'id:PassageRanking:PassageRanking::84721',\n",
      "             'sddocname': 'PassageRanking',\n",
      "             'summaryfeatures': {'bm25(text)': 11.310323797415357,\n",
      "                                 'vespa.summaryFeatures.cached': 0.0},\n",
      "             'text': 'Sky Customer Service 0870 280 2564. Use the Sky contact '\n",
      "                     'number to get in contact with the Sky customer services '\n",
      "                     'team to speak to a representative about your Sky TV, Sky '\n",
      "                     'Internet or Sky telephone services. The Sky customer '\n",
      "                     'Services team is operational between 8:30am and 11:30pm '\n",
      "                     'seven days a week.'},\n",
      "  'id': 'id:PassageRanking:PassageRanking::84721',\n",
      "  'relevance': 11.310323797415357,\n",
      "  'source': 'PassageRanking_content'}]\n"
     ]
    }
   ],
   "source": [
    "from learntorank.query import send_query\n",
    "from pprint import pprint\n",
    "\n",
    "response = send_query(\n",
    "    app=app,\n",
    "    query=sample_query, \n",
    "    query_model=bm25_query_model\n",
    ")\n",
    "pprint(response.hits[0:2])"
   ]
  },
  {
   "cell_type": "markdown",
   "metadata": {},
   "source": [
    "### Query with Vespa Query Language"
   ]
  },
  {
   "cell_type": "markdown",
   "metadata": {},
   "source": [
    "We can also translate the query created with the `QueryModel` into the [Vespa Query Language (YQL)](https://docs.vespa.ai/en/query-language.html) by setting `debug_request=True`:"
   ]
  },
  {
   "cell_type": "code",
   "execution_count": null,
   "metadata": {},
   "outputs": [
    {
     "name": "stdout",
     "output_type": "stream",
     "text": [
      "{'ranking': {'listFeatures': 'false', 'profile': 'bm25'},\n",
      " 'yql': 'select * from sources * where ({targetHits: 100}weakAnd(default '\n",
      "        'contains \"why\", default contains \"say\", default contains \"the\", '\n",
      "        'default contains \"sky\", default contains \"is\", default contains '\n",
      "        '\"the\", default contains \"limit\"));'}\n"
     ]
    }
   ],
   "source": [
    "response = send_query(\n",
    "    app=app,\n",
    "    query = sample_query, \n",
    "    query_model=bm25_query_model, \n",
    "    debug_request=True\n",
    ")\n",
    "yql_body = response.request_body\n",
    "pprint(yql_body)"
   ]
  },
  {
   "cell_type": "markdown",
   "metadata": {},
   "source": [
    "We can use Vespa YQL directly via the `body` parameter:"
   ]
  },
  {
   "cell_type": "code",
   "execution_count": null,
   "metadata": {},
   "outputs": [
    {
     "name": "stdout",
     "output_type": "stream",
     "text": [
      "[{'fields': {'doc_id': '7407715',\n",
      "             'documentid': 'id:PassageRanking:PassageRanking::7407715',\n",
      "             'sddocname': 'PassageRanking',\n",
      "             'summaryfeatures': {'bm25(text)': 11.979235042476953,\n",
      "                                 'vespa.summaryFeatures.cached': 0.0},\n",
      "             'text': 'The Sky is the Limit also known as TSITL is a global '\n",
      "                     'effort designed to influence, motivate and inspire '\n",
      "                     'people all over the world to achieve their goals and '\n",
      "                     'dreams in life. TSITL’s collaborative community on '\n",
      "                     'social media provides you with a vast archive of '\n",
      "                     'motivational pictures/quotes/videos.'},\n",
      "  'id': 'id:PassageRanking:PassageRanking::7407715',\n",
      "  'relevance': 11.979235042476953,\n",
      "  'source': 'PassageRanking_content'},\n",
      " {'fields': {'doc_id': '84721',\n",
      "             'documentid': 'id:PassageRanking:PassageRanking::84721',\n",
      "             'sddocname': 'PassageRanking',\n",
      "             'summaryfeatures': {'bm25(text)': 11.310323797415357,\n",
      "                                 'vespa.summaryFeatures.cached': 0.0},\n",
      "             'text': 'Sky Customer Service 0870 280 2564. Use the Sky contact '\n",
      "                     'number to get in contact with the Sky customer services '\n",
      "                     'team to speak to a representative about your Sky TV, Sky '\n",
      "                     'Internet or Sky telephone services. The Sky customer '\n",
      "                     'Services team is operational between 8:30am and 11:30pm '\n",
      "                     'seven days a week.'},\n",
      "  'id': 'id:PassageRanking:PassageRanking::84721',\n",
      "  'relevance': 11.310323797415357,\n",
      "  'source': 'PassageRanking_content'}]\n"
     ]
    }
   ],
   "source": [
    "yql_response = send_query(app=app, body=yql_body)\n",
    "pprint(yql_response.hits[0:2])"
   ]
  },
  {
   "cell_type": "markdown",
   "metadata": {},
   "source": [
    "## Evaluate query models"
   ]
  },
  {
   "cell_type": "markdown",
   "metadata": {},
   "source": [
    "In this section, we want to evaluate and compare the `bm25_query_model` defined above with the `native_query_model` defined below:"
   ]
  },
  {
   "cell_type": "code",
   "execution_count": null,
   "metadata": {},
   "outputs": [],
   "source": [
    "native_query_model = QueryModel(\n",
    "    name=\"native_rank\", \n",
    "    match_phase=WeakAnd(hits=100), \n",
    "    ranking=Ranking(name=\"native_rank\")\n",
    ")"
   ]
  },
  {
   "cell_type": "markdown",
   "metadata": {},
   "source": [
    "We specify three metrics to evaluate the models."
   ]
  },
  {
   "cell_type": "code",
   "execution_count": null,
   "metadata": {},
   "outputs": [],
   "source": [
    "from learntorank.evaluation import (\n",
    "    Recall, \n",
    "    ReciprocalRank, \n",
    "    NormalizedDiscountedCumulativeGain\n",
    ")\n",
    "\n",
    "metrics = [\n",
    "    Recall(at=10), \n",
    "    ReciprocalRank(at=3), \n",
    "    NormalizedDiscountedCumulativeGain(at=3)\n",
    "]"
   ]
  },
  {
   "cell_type": "markdown",
   "metadata": {},
   "source": [
    "### Point estimates"
   ]
  },
  {
   "cell_type": "markdown",
   "metadata": {},
   "source": [
    "It is straightforward to obtain point estimates of the evaluation metrics for each query model being compared. In this case, we computed the mean and the standard deviation for each of the metrics."
   ]
  },
  {
   "cell_type": "code",
   "execution_count": null,
   "metadata": {},
   "outputs": [],
   "source": [
    "from learntorank.evaluation import evaluate\n",
    "\n",
    "evaluation = evaluate(\n",
    "    app=app,\n",
    "    labeled_data=data.get_labels(type=\"dev\"), \n",
    "    eval_metrics=metrics, \n",
    "    query_model=[native_query_model, bm25_query_model], \n",
    "    id_field=\"doc_id\",\n",
    "    aggregators=[\"mean\", \"std\"]\n",
    " )"
   ]
  },
  {
   "cell_type": "code",
   "execution_count": null,
   "metadata": {},
   "outputs": [
    {
     "data": {
      "text/html": [
       "<div>\n",
       "<style scoped>\n",
       "    .dataframe tbody tr th:only-of-type {\n",
       "        vertical-align: middle;\n",
       "    }\n",
       "\n",
       "    .dataframe tbody tr th {\n",
       "        vertical-align: top;\n",
       "    }\n",
       "\n",
       "    .dataframe thead th {\n",
       "        text-align: right;\n",
       "    }\n",
       "</style>\n",
       "<table border=\"1\" class=\"dataframe\">\n",
       "  <thead>\n",
       "    <tr style=\"text-align: right;\">\n",
       "      <th></th>\n",
       "      <th>model</th>\n",
       "      <th>bm25</th>\n",
       "      <th>native_rank</th>\n",
       "    </tr>\n",
       "  </thead>\n",
       "  <tbody>\n",
       "    <tr>\n",
       "      <th rowspan=\"2\" valign=\"top\">recall_10</th>\n",
       "      <th>mean</th>\n",
       "      <td>0.935833</td>\n",
       "      <td>0.845833</td>\n",
       "    </tr>\n",
       "    <tr>\n",
       "      <th>std</th>\n",
       "      <td>0.215444</td>\n",
       "      <td>0.342749</td>\n",
       "    </tr>\n",
       "    <tr>\n",
       "      <th rowspan=\"2\" valign=\"top\">reciprocal_rank_3</th>\n",
       "      <th>mean</th>\n",
       "      <td>0.935000</td>\n",
       "      <td>0.755000</td>\n",
       "    </tr>\n",
       "    <tr>\n",
       "      <th>std</th>\n",
       "      <td>0.231977</td>\n",
       "      <td>0.394587</td>\n",
       "    </tr>\n",
       "    <tr>\n",
       "      <th rowspan=\"2\" valign=\"top\">ndcg_3</th>\n",
       "      <th>mean</th>\n",
       "      <td>0.912839</td>\n",
       "      <td>0.749504</td>\n",
       "    </tr>\n",
       "    <tr>\n",
       "      <th>std</th>\n",
       "      <td>0.242272</td>\n",
       "      <td>0.381792</td>\n",
       "    </tr>\n",
       "  </tbody>\n",
       "</table>\n",
       "</div>"
      ],
      "text/plain": [
       "model                       bm25  native_rank\n",
       "recall_10         mean  0.935833     0.845833\n",
       "                  std   0.215444     0.342749\n",
       "reciprocal_rank_3 mean  0.935000     0.755000\n",
       "                  std   0.231977     0.394587\n",
       "ndcg_3            mean  0.912839     0.749504\n",
       "                  std   0.242272     0.381792"
      ]
     },
     "execution_count": null,
     "metadata": {},
     "output_type": "execute_result"
    }
   ],
   "source": [
    "evaluation"
   ]
  },
  {
   "cell_type": "markdown",
   "metadata": {},
   "source": [
    "Given the nature of the data distribution of the metrics described above, it is not trivial to compute a confidence interval from the mean and the standard deviation computed above. In the next section, we solve this by using bootstrap sampling on a per query metric evaluation."
   ]
  },
  {
   "cell_type": "markdown",
   "metadata": {},
   "source": [
    "### Uncertainty estimates"
   ]
  },
  {
   "cell_type": "markdown",
   "metadata": {},
   "source": [
    "Instead of returning aggregated point estimates, we can also compute the metrics per query by setting `per_query=True`. This gives us more granular information on the distribution function of the metrics."
   ]
  },
  {
   "cell_type": "code",
   "execution_count": null,
   "metadata": {},
   "outputs": [],
   "source": [
    "evaluation_per_query = evaluate(\n",
    "    app=app,\n",
    "    labeled_data=data.get_labels(type=\"dev\"), \n",
    "    eval_metrics=metrics, \n",
    "    query_model=[native_query_model, bm25_query_model], \n",
    "    id_field=\"doc_id\",\n",
    "    per_query=True\n",
    ")"
   ]
  },
  {
   "cell_type": "code",
   "execution_count": null,
   "metadata": {},
   "outputs": [
    {
     "data": {
      "text/html": [
       "<div>\n",
       "<style scoped>\n",
       "    .dataframe tbody tr th:only-of-type {\n",
       "        vertical-align: middle;\n",
       "    }\n",
       "\n",
       "    .dataframe tbody tr th {\n",
       "        vertical-align: top;\n",
       "    }\n",
       "\n",
       "    .dataframe thead th {\n",
       "        text-align: right;\n",
       "    }\n",
       "</style>\n",
       "<table border=\"1\" class=\"dataframe\">\n",
       "  <thead>\n",
       "    <tr style=\"text-align: right;\">\n",
       "      <th></th>\n",
       "      <th>model</th>\n",
       "      <th>query_id</th>\n",
       "      <th>recall_10</th>\n",
       "      <th>reciprocal_rank_3</th>\n",
       "      <th>ndcg_3</th>\n",
       "    </tr>\n",
       "  </thead>\n",
       "  <tbody>\n",
       "    <tr>\n",
       "      <th>0</th>\n",
       "      <td>native_rank</td>\n",
       "      <td>1101971</td>\n",
       "      <td>1.0</td>\n",
       "      <td>1.0</td>\n",
       "      <td>1.0</td>\n",
       "    </tr>\n",
       "    <tr>\n",
       "      <th>1</th>\n",
       "      <td>native_rank</td>\n",
       "      <td>712898</td>\n",
       "      <td>0.0</td>\n",
       "      <td>0.0</td>\n",
       "      <td>0.0</td>\n",
       "    </tr>\n",
       "    <tr>\n",
       "      <th>2</th>\n",
       "      <td>native_rank</td>\n",
       "      <td>154469</td>\n",
       "      <td>1.0</td>\n",
       "      <td>0.0</td>\n",
       "      <td>0.0</td>\n",
       "    </tr>\n",
       "    <tr>\n",
       "      <th>3</th>\n",
       "      <td>native_rank</td>\n",
       "      <td>930015</td>\n",
       "      <td>1.0</td>\n",
       "      <td>1.0</td>\n",
       "      <td>1.0</td>\n",
       "    </tr>\n",
       "    <tr>\n",
       "      <th>4</th>\n",
       "      <td>native_rank</td>\n",
       "      <td>860085</td>\n",
       "      <td>0.0</td>\n",
       "      <td>0.0</td>\n",
       "      <td>0.0</td>\n",
       "    </tr>\n",
       "  </tbody>\n",
       "</table>\n",
       "</div>"
      ],
      "text/plain": [
       "         model query_id  recall_10  reciprocal_rank_3  ndcg_3\n",
       "0  native_rank  1101971        1.0                1.0     1.0\n",
       "1  native_rank   712898        0.0                0.0     0.0\n",
       "2  native_rank   154469        1.0                0.0     0.0\n",
       "3  native_rank   930015        1.0                1.0     1.0\n",
       "4  native_rank   860085        0.0                0.0     0.0"
      ]
     },
     "execution_count": null,
     "metadata": {},
     "output_type": "execute_result"
    }
   ],
   "source": [
    "evaluation_per_query.head()"
   ]
  },
  {
   "cell_type": "markdown",
   "metadata": {},
   "source": [
    "We then created a function that uses the evaluation per query data and computes uncertainty estimates via bootstrap sampling."
   ]
  },
  {
   "cell_type": "code",
   "execution_count": null,
   "metadata": {},
   "outputs": [],
   "source": [
    "from learntorank.stats import compute_evaluation_estimates\n",
    "\n",
    "estimates = compute_evaluation_estimates(\n",
    "    df = evaluation_per_query\n",
    ")"
   ]
  },
  {
   "cell_type": "code",
   "execution_count": null,
   "metadata": {},
   "outputs": [
    {
     "data": {
      "text/html": [
       "<div>\n",
       "<style scoped>\n",
       "    .dataframe tbody tr th:only-of-type {\n",
       "        vertical-align: middle;\n",
       "    }\n",
       "\n",
       "    .dataframe tbody tr th {\n",
       "        vertical-align: top;\n",
       "    }\n",
       "\n",
       "    .dataframe thead th {\n",
       "        text-align: right;\n",
       "    }\n",
       "</style>\n",
       "<table border=\"1\" class=\"dataframe\">\n",
       "  <thead>\n",
       "    <tr style=\"text-align: right;\">\n",
       "      <th></th>\n",
       "      <th>metric</th>\n",
       "      <th>model</th>\n",
       "      <th>low</th>\n",
       "      <th>median</th>\n",
       "      <th>high</th>\n",
       "    </tr>\n",
       "  </thead>\n",
       "  <tbody>\n",
       "    <tr>\n",
       "      <th>0</th>\n",
       "      <td>ndcg_3</td>\n",
       "      <td>bm25</td>\n",
       "      <td>0.865279</td>\n",
       "      <td>0.914863</td>\n",
       "      <td>0.958766</td>\n",
       "    </tr>\n",
       "    <tr>\n",
       "      <th>1</th>\n",
       "      <td>ndcg_3</td>\n",
       "      <td>native_rank</td>\n",
       "      <td>0.675220</td>\n",
       "      <td>0.752400</td>\n",
       "      <td>0.820318</td>\n",
       "    </tr>\n",
       "    <tr>\n",
       "      <th>2</th>\n",
       "      <td>recall_10</td>\n",
       "      <td>bm25</td>\n",
       "      <td>0.891667</td>\n",
       "      <td>0.935833</td>\n",
       "      <td>0.974187</td>\n",
       "    </tr>\n",
       "    <tr>\n",
       "      <th>3</th>\n",
       "      <td>recall_10</td>\n",
       "      <td>native_rank</td>\n",
       "      <td>0.778312</td>\n",
       "      <td>0.847917</td>\n",
       "      <td>0.910000</td>\n",
       "    </tr>\n",
       "    <tr>\n",
       "      <th>4</th>\n",
       "      <td>reciprocal_rank_3</td>\n",
       "      <td>bm25</td>\n",
       "      <td>0.890000</td>\n",
       "      <td>0.935000</td>\n",
       "      <td>0.975000</td>\n",
       "    </tr>\n",
       "    <tr>\n",
       "      <th>5</th>\n",
       "      <td>reciprocal_rank_3</td>\n",
       "      <td>native_rank</td>\n",
       "      <td>0.678333</td>\n",
       "      <td>0.758333</td>\n",
       "      <td>0.831667</td>\n",
       "    </tr>\n",
       "  </tbody>\n",
       "</table>\n",
       "</div>"
      ],
      "text/plain": [
       "              metric        model       low    median      high\n",
       "0             ndcg_3         bm25  0.865279  0.914863  0.958766\n",
       "1             ndcg_3  native_rank  0.675220  0.752400  0.820318\n",
       "2          recall_10         bm25  0.891667  0.935833  0.974187\n",
       "3          recall_10  native_rank  0.778312  0.847917  0.910000\n",
       "4  reciprocal_rank_3         bm25  0.890000  0.935000  0.975000\n",
       "5  reciprocal_rank_3  native_rank  0.678333  0.758333  0.831667"
      ]
     },
     "execution_count": null,
     "metadata": {},
     "output_type": "execute_result"
    }
   ],
   "source": [
    "estimates"
   ]
  },
  {
   "cell_type": "markdown",
   "metadata": {},
   "source": [
    "We can then create plots based on this data to make it easier to judge the magnitude of the differences between ranking functions."
   ]
  },
  {
   "cell_type": "code",
   "execution_count": null,
   "metadata": {},
   "outputs": [
    {
     "data": {
      "image/png": "[encoded data removed]",
      "text/plain": [
       "<Figure size 640x480 with 3 Axes>"
      ]
     },
     "metadata": {},
     "output_type": "display_data"
    },
    {
     "name": "stdout",
     "output_type": "stream",
     "text": [
      "\n"
     ]
    }
   ],
   "source": [
    "from plotnine import *\n",
    "\n",
    "print((ggplot(estimates) + \n",
    " geom_point(aes(\"model\", \"median\")) + \n",
    " geom_errorbar(aes(x=\"model\", ymin=\"low\",ymax=\"high\")) + \n",
    " facet_wrap(\"metric\") + labs(y=\"Metric value\")\n",
    "))"
   ]
  },
  {
   "cell_type": "markdown",
   "metadata": {},
   "source": [
    "## Cleanup the environment"
   ]
  },
  {
   "cell_type": "code",
   "execution_count": null,
   "metadata": {},
   "outputs": [],
   "source": [
    "vespa_docker.container.stop(timeout=600)\n",
    "vespa_docker.container.remove()"
   ]
  },
  {
   "cell_type": "code",
   "execution_count": null,
   "metadata": {},
   "outputs": [],
   "source": [
    "#|hide\n",
    "nbdev_export()"
   ]
  }
 ],
 "metadata": {
  "kernelspec": {
   "display_name": "learntorank",
   "language": "python",
   "name": "learntorank"
  }
 },
 "nbformat": 4,
 "nbformat_minor": 4
}
