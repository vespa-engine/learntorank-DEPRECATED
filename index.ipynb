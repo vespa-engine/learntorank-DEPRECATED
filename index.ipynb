{
 "cells": [
  {
   "cell_type": "code",
   "execution_count": null,
   "metadata": {},
   "outputs": [],
   "source": [
    "#|hide\n",
    "from learntorank.passage import *"
   ]
  },
  {
   "cell_type": "markdown",
   "metadata": {},
   "source": [
    "# Vespa for Data Scientists\n",
    "\n",
    "> Library and documentation to support Vespa data science use cases."
   ]
  },
  {
   "cell_type": "markdown",
   "metadata": {},
   "source": [
    "![](https://vespa.ai/assets/vespa-logo-color.png)"
   ]
  },
  {
   "cell_type": "markdown",
   "metadata": {},
   "source": [
    "## Motivation"
   ]
  },
  {
   "cell_type": "markdown",
   "metadata": {},
   "source": [
    "This library contains application specific code related to data manipulation and analysis of different Vespa use cases. The [Vespa python API](https://pyvespa.readthedocs.io/) is used to interact with Vespa applications from python for faster exploration."
   ]
  },
  {
   "cell_type": "markdown",
   "metadata": {},
   "source": [
    "The main goal of this space is to facilitate prototyping and experimentation for data scientists. Please visit Vespa [sample apps](https://github.com/vespa-engine/sample-apps/) for production-ready use cases and [Vespa docs](https://docs.vespa.ai/) for in-depth Vespa documentation."
   ]
  },
  {
   "cell_type": "markdown",
   "metadata": {},
   "source": [
    "## Install"
   ]
  },
  {
   "cell_type": "markdown",
   "metadata": {},
   "source": [
    "Code to support and reproduce the use cases documented here can be found in the `learntorank` library."
   ]
  },
  {
   "cell_type": "markdown",
   "metadata": {},
   "source": [
    "Install via PyPI:"
   ]
  },
  {
   "cell_type": "markdown",
   "metadata": {},
   "source": [
    "`pip install learntorank`"
   ]
  },
  {
   "cell_type": "markdown",
   "metadata": {},
   "source": [
    "## Development"
   ]
  },
  {
   "cell_type": "markdown",
   "metadata": {},
   "source": [
    "All the code and content of this repo is created using [nbdev](https://nbdev.fast.ai/) by editing notebooks. We will give a summary below about the main points required to contribute, but we suggest going through [nbdev tutorials](https://nbdev.fast.ai/tutorials/tutorial.html) to learn more."
   ]
  },
  {
   "cell_type": "markdown",
   "metadata": {},
   "source": [
    "### Setting up environment"
   ]
  },
  {
   "cell_type": "markdown",
   "metadata": {},
   "source": [
    "1. Create and activate a virtual environment of your choice. We recommend [pipenv](https://github.com/pypa/pipenv).\n",
    "\n",
    "    ```bash\n",
    "    pipenv shell\n",
    "    ```"
   ]
  },
  {
   "cell_type": "markdown",
   "metadata": {},
   "source": [
    "2. Install Jupyter Lab (or Jupyter Notebook if you prefer).\n",
    "\n",
    "    ```bash\n",
    "    pip3 install jupyterlab\n",
    "    ```"
   ]
  },
  {
   "cell_type": "markdown",
   "metadata": {},
   "source": [
    "3. Create a new kernel for Jupyter that uses the virtual environment created at step 1.\n",
    "    * Check where the current list of kernels is located with `jupyter kernelspec list`.\n",
    "    * Copy one of the existing folder and rename it to `learntorank`.\n",
    "    * Modify the `kernel.json` file that is inside the new folder to reflect the `python3`executable associated with your virtual env."
   ]
  },
  {
   "cell_type": "markdown",
   "metadata": {},
   "source": [
    "4. Install `nbdev` library:\n",
    "\n",
    "    ```bash\n",
    "    pip3 install nbdev\n",
    "    ```\n",
    "5. Install `learntorank` in development mode:\n",
    "\n",
    "    ```bash\n",
    "    pip3 install -e .[dev]\n",
    "    ```\n"
   ]
  },
  {
   "cell_type": "markdown",
   "metadata": {},
   "source": [
    "### Most used nbdev commands"
   ]
  },
  {
   "cell_type": "markdown",
   "metadata": {},
   "source": [
    "From your terminal:\n",
    "\n",
    "* `nbdev_help`: List all nbdev commands available.\n",
    "* `nbdev_readme`: Update `README.md` based on `index.ipynb`\n",
    "\n",
    "* Preview documentation while editing the notebooks:\n",
    "    * `nbdev_preview --port 3000`\n",
    "\n",
    "* Workflow before pushing code:\n",
    "    * `nbdev_test --n_workers 2`: Execute all the tests inside notebooks.\n",
    "        * Tests can run in parallel but since we create Docker containers we suggest a low number of workers to preserve memory.\n",
    "    * `nbdev_export`: Export code from notebooks to the python library.\n",
    "    * `nbdev_clean`: Clean notebooks to avoid merge conflicts.\n",
    "    \n",
    "* Publish library\n",
    "    * `nbdev_bump_version`: Bump library version.\n",
    "    * `nbdev_pypi`: Publish library to PyPI."
   ]
  }
 ],
 "metadata": {
  "kernelspec": {
   "display_name": "learntorank",
   "language": "python",
   "name": "learntorank"
  }
 },
 "nbformat": 4,
 "nbformat_minor": 4
}
